{
 "cells": [
  {
   "cell_type": "code",
   "execution_count": 99,
   "metadata": {},
   "outputs": [],
   "source": [
    "from IPython.core.interactiveshell import InteractiveShell\n",
    "InteractiveShell.ast_node_interactivity = \"all\""
   ]
  },
  {
   "cell_type": "markdown",
   "metadata": {},
   "source": [
    "# Python을 이용한 통계 분석\n",
    "- 기술통계, 확률분포, 분포에 관한 추론: 실제 분석에서 많이 쓰이는 개념 중심으로 설명"
   ]
  },
  {
   "cell_type": "markdown",
   "metadata": {},
   "source": [
    "## 1. MovieLens 자료의 기술통계"
   ]
  },
  {
   "cell_type": "code",
   "execution_count": 100,
   "metadata": {},
   "outputs": [
    {
     "name": "stderr",
     "output_type": "stream",
     "text": [
      "C:\\Users\\yuniv\\AppData\\Local\\Continuum\\anaconda3\\lib\\site-packages\\ipykernel_launcher.py:14: ParserWarning: Falling back to the 'python' engine because the 'c' engine does not support regex separators (separators > 1 char and different from '\\s+' are interpreted as regex); you can avoid this warning by specifying engine='python'.\n",
      "  \n",
      "C:\\Users\\yuniv\\AppData\\Local\\Continuum\\anaconda3\\lib\\site-packages\\ipykernel_launcher.py:15: ParserWarning: Falling back to the 'python' engine because the 'c' engine does not support regex separators (separators > 1 char and different from '\\s+' are interpreted as regex); you can avoid this warning by specifying engine='python'.\n",
      "  from ipykernel import kernelapp as app\n"
     ]
    },
    {
     "data": {
      "text/html": [
       "<div>\n",
       "<style scoped>\n",
       "    .dataframe tbody tr th:only-of-type {\n",
       "        vertical-align: middle;\n",
       "    }\n",
       "\n",
       "    .dataframe tbody tr th {\n",
       "        vertical-align: top;\n",
       "    }\n",
       "\n",
       "    .dataframe thead th {\n",
       "        text-align: right;\n",
       "    }\n",
       "</style>\n",
       "<table border=\"1\" class=\"dataframe\">\n",
       "  <thead>\n",
       "    <tr style=\"text-align: right;\">\n",
       "      <th></th>\n",
       "      <th>movie_id</th>\n",
       "      <th>title</th>\n",
       "      <th>genres</th>\n",
       "    </tr>\n",
       "  </thead>\n",
       "  <tbody>\n",
       "    <tr>\n",
       "      <th>0</th>\n",
       "      <td>1</td>\n",
       "      <td>Toy Story (1995)</td>\n",
       "      <td>Animation|Children's|Comedy</td>\n",
       "    </tr>\n",
       "    <tr>\n",
       "      <th>1</th>\n",
       "      <td>2</td>\n",
       "      <td>Jumanji (1995)</td>\n",
       "      <td>Adventure|Children's|Fantasy</td>\n",
       "    </tr>\n",
       "    <tr>\n",
       "      <th>2</th>\n",
       "      <td>3</td>\n",
       "      <td>Grumpier Old Men (1995)</td>\n",
       "      <td>Comedy|Romance</td>\n",
       "    </tr>\n",
       "    <tr>\n",
       "      <th>3</th>\n",
       "      <td>4</td>\n",
       "      <td>Waiting to Exhale (1995)</td>\n",
       "      <td>Comedy|Drama</td>\n",
       "    </tr>\n",
       "    <tr>\n",
       "      <th>4</th>\n",
       "      <td>5</td>\n",
       "      <td>Father of the Bride Part II (1995)</td>\n",
       "      <td>Comedy</td>\n",
       "    </tr>\n",
       "  </tbody>\n",
       "</table>\n",
       "</div>"
      ],
      "text/plain": [
       "   movie_id                               title                        genres\n",
       "0         1                    Toy Story (1995)   Animation|Children's|Comedy\n",
       "1         2                      Jumanji (1995)  Adventure|Children's|Fantasy\n",
       "2         3             Grumpier Old Men (1995)                Comedy|Romance\n",
       "3         4            Waiting to Exhale (1995)                  Comedy|Drama\n",
       "4         5  Father of the Bride Part II (1995)                        Comedy"
      ]
     },
     "execution_count": 100,
     "metadata": {},
     "output_type": "execute_result"
    }
   ],
   "source": [
    "# 패키지 불러오기\n",
    "import pandas as pd\n",
    "import numpy as np\n",
    "import matplotlib.pyplot as plt\n",
    "import seaborn as sns\n",
    "\n",
    "# 컬럼명 생성하기\n",
    "unames = ['user_id', 'gender', 'age', 'occupation', 'zip']\n",
    "rnames = ['user_id', 'movie_id', 'rating', 'timestamp']\n",
    "mnames = ['movie_id', 'title', 'genres']\n",
    "\n",
    "# 데이터 불러오기 \n",
    "data = pd.read_csv('data.csv')\n",
    "movies = pd.read_csv('movies.dat', sep = '::', header = None, names = mnames)\n",
    "users = pd.read_csv('users.dat', sep = '::', header = None, names = unames)\n",
    "movies.head()"
   ]
  },
  {
   "cell_type": "markdown",
   "metadata": {},
   "source": [
    "### 1.1. 자료 중 가장 많이 평가된 자료의 평점 분포"
   ]
  },
  {
   "cell_type": "code",
   "execution_count": 101,
   "metadata": {},
   "outputs": [
    {
     "name": "stdout",
     "output_type": "stream",
     "text": [
      "가장 많이 평가된 영화:  American Beauty (1999)\n"
     ]
    }
   ],
   "source": [
    "movie_counts = data['title'].value_counts().sort_values(ascending = False)\n",
    "print('가장 많이 평가된 영화: ', movie_counts.index[0])"
   ]
  },
  {
   "cell_type": "code",
   "execution_count": 102,
   "metadata": {},
   "outputs": [
    {
     "data": {
      "text/html": [
       "<div>\n",
       "<style scoped>\n",
       "    .dataframe tbody tr th:only-of-type {\n",
       "        vertical-align: middle;\n",
       "    }\n",
       "\n",
       "    .dataframe tbody tr th {\n",
       "        vertical-align: top;\n",
       "    }\n",
       "\n",
       "    .dataframe thead th {\n",
       "        text-align: right;\n",
       "    }\n",
       "</style>\n",
       "<table border=\"1\" class=\"dataframe\">\n",
       "  <thead>\n",
       "    <tr style=\"text-align: right;\">\n",
       "      <th></th>\n",
       "      <th>index</th>\n",
       "      <th>Unnamed: 0</th>\n",
       "      <th>user_id</th>\n",
       "      <th>movie_id</th>\n",
       "      <th>rating</th>\n",
       "      <th>timestamp</th>\n",
       "      <th>gender</th>\n",
       "      <th>age</th>\n",
       "      <th>occupation</th>\n",
       "      <th>zip</th>\n",
       "      <th>title</th>\n",
       "      <th>genres</th>\n",
       "    </tr>\n",
       "  </thead>\n",
       "  <tbody>\n",
       "    <tr>\n",
       "      <th>0</th>\n",
       "      <td>107009</td>\n",
       "      <td>107009</td>\n",
       "      <td>2</td>\n",
       "      <td>2858</td>\n",
       "      <td>4</td>\n",
       "      <td>978298434</td>\n",
       "      <td>M</td>\n",
       "      <td>56</td>\n",
       "      <td>16</td>\n",
       "      <td>70072</td>\n",
       "      <td>American Beauty (1999)</td>\n",
       "      <td>Comedy|Drama</td>\n",
       "    </tr>\n",
       "    <tr>\n",
       "      <th>1</th>\n",
       "      <td>107010</td>\n",
       "      <td>107010</td>\n",
       "      <td>3</td>\n",
       "      <td>2858</td>\n",
       "      <td>4</td>\n",
       "      <td>978297039</td>\n",
       "      <td>M</td>\n",
       "      <td>25</td>\n",
       "      <td>15</td>\n",
       "      <td>55117</td>\n",
       "      <td>American Beauty (1999)</td>\n",
       "      <td>Comedy|Drama</td>\n",
       "    </tr>\n",
       "    <tr>\n",
       "      <th>2</th>\n",
       "      <td>107011</td>\n",
       "      <td>107011</td>\n",
       "      <td>5</td>\n",
       "      <td>2858</td>\n",
       "      <td>4</td>\n",
       "      <td>978241390</td>\n",
       "      <td>M</td>\n",
       "      <td>25</td>\n",
       "      <td>20</td>\n",
       "      <td>55455</td>\n",
       "      <td>American Beauty (1999)</td>\n",
       "      <td>Comedy|Drama</td>\n",
       "    </tr>\n",
       "    <tr>\n",
       "      <th>3</th>\n",
       "      <td>107012</td>\n",
       "      <td>107012</td>\n",
       "      <td>6</td>\n",
       "      <td>2858</td>\n",
       "      <td>1</td>\n",
       "      <td>978236809</td>\n",
       "      <td>F</td>\n",
       "      <td>50</td>\n",
       "      <td>9</td>\n",
       "      <td>55117</td>\n",
       "      <td>American Beauty (1999)</td>\n",
       "      <td>Comedy|Drama</td>\n",
       "    </tr>\n",
       "    <tr>\n",
       "      <th>4</th>\n",
       "      <td>107013</td>\n",
       "      <td>107013</td>\n",
       "      <td>8</td>\n",
       "      <td>2858</td>\n",
       "      <td>5</td>\n",
       "      <td>978229817</td>\n",
       "      <td>M</td>\n",
       "      <td>25</td>\n",
       "      <td>12</td>\n",
       "      <td>11413</td>\n",
       "      <td>American Beauty (1999)</td>\n",
       "      <td>Comedy|Drama</td>\n",
       "    </tr>\n",
       "  </tbody>\n",
       "</table>\n",
       "</div>"
      ],
      "text/plain": [
       "    index  Unnamed: 0  user_id  movie_id  rating  timestamp gender  age  \\\n",
       "0  107009      107009        2      2858       4  978298434      M   56   \n",
       "1  107010      107010        3      2858       4  978297039      M   25   \n",
       "2  107011      107011        5      2858       4  978241390      M   25   \n",
       "3  107012      107012        6      2858       1  978236809      F   50   \n",
       "4  107013      107013        8      2858       5  978229817      M   25   \n",
       "\n",
       "   occupation    zip                   title        genres  \n",
       "0          16  70072  American Beauty (1999)  Comedy|Drama  \n",
       "1          15  55117  American Beauty (1999)  Comedy|Drama  \n",
       "2          20  55455  American Beauty (1999)  Comedy|Drama  \n",
       "3           9  55117  American Beauty (1999)  Comedy|Drama  \n",
       "4          12  11413  American Beauty (1999)  Comedy|Drama  "
      ]
     },
     "execution_count": 102,
     "metadata": {},
     "output_type": "execute_result"
    }
   ],
   "source": [
    "# 가장 많이 평가된 영화인 American Beauty 평가 내역만 추출 (인덱스 리셋 = 랜덤)\n",
    "sub_data = data.loc[data.title == movie_counts.index[0]].reset_index()\n",
    "sub_data.head()"
   ]
  },
  {
   "cell_type": "markdown",
   "metadata": {},
   "source": [
    "### 1.2. 영화 rating의 비율 나타내기: barplot"
   ]
  },
  {
   "cell_type": "code",
   "execution_count": 103,
   "metadata": {},
   "outputs": [
    {
     "data": {
      "text/plain": [
       "<matplotlib.axes._subplots.AxesSubplot at 0x2d73f254470>"
      ]
     },
     "execution_count": 103,
     "metadata": {},
     "output_type": "execute_result"
    },
    {
     "data": {
      "image/png": "[encoded data removed]",
      "text/plain": [
       "<matplotlib.figure.Figure at 0x2d73ef23a58>"
      ]
     },
     "metadata": {},
     "output_type": "display_data"
    }
   ],
   "source": [
    "fig, ax = plt.subplots() # 사진 지정\n",
    "sub_data['rating'].value_counts().sort_index().plot(ax = ax, kind = 'bar') # rating 변수만 꺼내서 value count\n",
    "plt.show()"
   ]
  },
  {
   "cell_type": "markdown",
   "metadata": {},
   "source": [
    "#### tips\n",
    "- 전체 자료 대비 비중을 파악하고 싶을 때, y축은 상대도수로 표현"
   ]
  },
  {
   "cell_type": "code",
   "execution_count": 104,
   "metadata": {},
   "outputs": [
    {
     "data": {
      "text/plain": [
       "<matplotlib.axes._subplots.AxesSubplot at 0x2d73f28c860>"
      ]
     },
     "execution_count": 104,
     "metadata": {},
     "output_type": "execute_result"
    },
    {
     "data": {
      "text/plain": [
       "Text(0.5,1,'Rating distribution by gender for American Beauty (1999)')"
      ]
     },
     "execution_count": 104,
     "metadata": {},
     "output_type": "execute_result"
    },
    {
     "data": {
      "image/png": "[encoded data removed]",
      "text/plain": [
       "<matplotlib.figure.Figure at 0x2d73ee8ea20>"
      ]
     },
     "metadata": {},
     "output_type": "display_data"
    }
   ],
   "source": [
    "rating_counts = (sub_data.groupby(['gender'])['rating']\n",
    "                 .value_counts(normalize = True) # count: 비율로, 표준화\n",
    "                 .rename('percentage') # y축 label 'percentage'로 변경 \n",
    "                 .mul(100) # 100 곱하기\n",
    "                 .reset_index()\n",
    "                 .sort_values('rating')) # rating 순서대로 sorting\n",
    "sns.barplot(x= 'rating', y = 'percentage', hue = 'gender', data = rating_counts)\n",
    "plt.title('Rating distribution by gender for ' + sub_data['title'][0])\n",
    "plt.show()"
   ]
  },
  {
   "cell_type": "markdown",
   "metadata": {},
   "source": [
    "### 1.3. 요약 통계량 계산"
   ]
  },
  {
   "cell_type": "code",
   "execution_count": 105,
   "metadata": {},
   "outputs": [
    {
     "data": {
      "text/html": [
       "<div>\n",
       "<style scoped>\n",
       "    .dataframe tbody tr th:only-of-type {\n",
       "        vertical-align: middle;\n",
       "    }\n",
       "\n",
       "    .dataframe tbody tr th {\n",
       "        vertical-align: top;\n",
       "    }\n",
       "\n",
       "    .dataframe thead tr th {\n",
       "        text-align: left;\n",
       "    }\n",
       "\n",
       "    .dataframe thead tr:last-of-type th {\n",
       "        text-align: right;\n",
       "    }\n",
       "</style>\n",
       "<table border=\"1\" class=\"dataframe\">\n",
       "  <thead>\n",
       "    <tr>\n",
       "      <th></th>\n",
       "      <th>len</th>\n",
       "      <th>mean</th>\n",
       "      <th>median</th>\n",
       "      <th>std</th>\n",
       "    </tr>\n",
       "    <tr>\n",
       "      <th></th>\n",
       "      <th>rating</th>\n",
       "      <th>rating</th>\n",
       "      <th>rating</th>\n",
       "      <th>rating</th>\n",
       "    </tr>\n",
       "    <tr>\n",
       "      <th>gender</th>\n",
       "      <th></th>\n",
       "      <th></th>\n",
       "      <th></th>\n",
       "      <th></th>\n",
       "    </tr>\n",
       "  </thead>\n",
       "  <tbody>\n",
       "    <tr>\n",
       "      <th>F</th>\n",
       "      <td>946</td>\n",
       "      <td>4.238901</td>\n",
       "      <td>5</td>\n",
       "      <td>1.063093</td>\n",
       "    </tr>\n",
       "    <tr>\n",
       "      <th>M</th>\n",
       "      <td>2482</td>\n",
       "      <td>4.347301</td>\n",
       "      <td>5</td>\n",
       "      <td>0.937943</td>\n",
       "    </tr>\n",
       "  </tbody>\n",
       "</table>\n",
       "</div>"
      ],
      "text/plain": [
       "          len      mean median       std\n",
       "       rating    rating rating    rating\n",
       "gender                                  \n",
       "F         946  4.238901      5  1.063093\n",
       "M        2482  4.347301      5  0.937943"
      ]
     },
     "execution_count": 105,
     "metadata": {},
     "output_type": "execute_result"
    }
   ],
   "source": [
    "pd.pivot_table(sub_data, values = 'rating',\n",
    "              index = 'gender',\n",
    "              aggfunc = [len, np.mean, np.median, np.std],\n",
    "               fill_value = 0) # 남/녀 평균, sd 차이 거의 없음. 단, 평가한 횟수 자체는 차이가 큼.\n",
    "# aggfunc에 여러 개 넣고 싶으면 리스트로 묶기"
   ]
  },
  {
   "cell_type": "markdown",
   "metadata": {},
   "source": [
    "### 1.4. 실습\n",
    "평가된 건수가 300개 이상인 영화 중 분산이 가장 큰 영화를 선택하여 아래를 확인\n",
    "\n",
    "- 해당 영화의 평점 분포\n",
    "- 성별 평점 분포"
   ]
  },
  {
   "cell_type": "code",
   "execution_count": 106,
   "metadata": {},
   "outputs": [],
   "source": [
    "counts = data['title'].value_counts()\n",
    "sel_titles = counts.index[counts >= 300]\n",
    "sd_ratings = pd.pivot_table(data, values = 'rating', index = 'title', \n",
    "                             columns = 'gender', aggfunc = np.std)\n",
    "sd_ratings = sd_ratings.loc[sel_titles]"
   ]
  },
  {
   "cell_type": "code",
   "execution_count": 107,
   "metadata": {},
   "outputs": [
    {
     "data": {
      "text/html": [
       "<div>\n",
       "<style scoped>\n",
       "    .dataframe tbody tr th:only-of-type {\n",
       "        vertical-align: middle;\n",
       "    }\n",
       "\n",
       "    .dataframe tbody tr th {\n",
       "        vertical-align: top;\n",
       "    }\n",
       "\n",
       "    .dataframe thead th {\n",
       "        text-align: right;\n",
       "    }\n",
       "</style>\n",
       "<table border=\"1\" class=\"dataframe\">\n",
       "  <thead>\n",
       "    <tr style=\"text-align: right;\">\n",
       "      <th></th>\n",
       "      <th>index</th>\n",
       "      <th>Unnamed: 0</th>\n",
       "      <th>user_id</th>\n",
       "      <th>movie_id</th>\n",
       "      <th>rating</th>\n",
       "      <th>timestamp</th>\n",
       "      <th>gender</th>\n",
       "      <th>age</th>\n",
       "      <th>occupation</th>\n",
       "      <th>zip</th>\n",
       "      <th>title</th>\n",
       "      <th>genres</th>\n",
       "    </tr>\n",
       "  </thead>\n",
       "  <tbody>\n",
       "    <tr>\n",
       "      <th>0</th>\n",
       "      <td>107009</td>\n",
       "      <td>107009</td>\n",
       "      <td>2</td>\n",
       "      <td>2858</td>\n",
       "      <td>4</td>\n",
       "      <td>978298434</td>\n",
       "      <td>M</td>\n",
       "      <td>56</td>\n",
       "      <td>16</td>\n",
       "      <td>70072</td>\n",
       "      <td>American Beauty (1999)</td>\n",
       "      <td>Comedy|Drama</td>\n",
       "    </tr>\n",
       "    <tr>\n",
       "      <th>1</th>\n",
       "      <td>107010</td>\n",
       "      <td>107010</td>\n",
       "      <td>3</td>\n",
       "      <td>2858</td>\n",
       "      <td>4</td>\n",
       "      <td>978297039</td>\n",
       "      <td>M</td>\n",
       "      <td>25</td>\n",
       "      <td>15</td>\n",
       "      <td>55117</td>\n",
       "      <td>American Beauty (1999)</td>\n",
       "      <td>Comedy|Drama</td>\n",
       "    </tr>\n",
       "    <tr>\n",
       "      <th>2</th>\n",
       "      <td>107011</td>\n",
       "      <td>107011</td>\n",
       "      <td>5</td>\n",
       "      <td>2858</td>\n",
       "      <td>4</td>\n",
       "      <td>978241390</td>\n",
       "      <td>M</td>\n",
       "      <td>25</td>\n",
       "      <td>20</td>\n",
       "      <td>55455</td>\n",
       "      <td>American Beauty (1999)</td>\n",
       "      <td>Comedy|Drama</td>\n",
       "    </tr>\n",
       "    <tr>\n",
       "      <th>3</th>\n",
       "      <td>107012</td>\n",
       "      <td>107012</td>\n",
       "      <td>6</td>\n",
       "      <td>2858</td>\n",
       "      <td>1</td>\n",
       "      <td>978236809</td>\n",
       "      <td>F</td>\n",
       "      <td>50</td>\n",
       "      <td>9</td>\n",
       "      <td>55117</td>\n",
       "      <td>American Beauty (1999)</td>\n",
       "      <td>Comedy|Drama</td>\n",
       "    </tr>\n",
       "    <tr>\n",
       "      <th>4</th>\n",
       "      <td>107013</td>\n",
       "      <td>107013</td>\n",
       "      <td>8</td>\n",
       "      <td>2858</td>\n",
       "      <td>5</td>\n",
       "      <td>978229817</td>\n",
       "      <td>M</td>\n",
       "      <td>25</td>\n",
       "      <td>12</td>\n",
       "      <td>11413</td>\n",
       "      <td>American Beauty (1999)</td>\n",
       "      <td>Comedy|Drama</td>\n",
       "    </tr>\n",
       "    <tr>\n",
       "      <th>5</th>\n",
       "      <td>107014</td>\n",
       "      <td>107014</td>\n",
       "      <td>9</td>\n",
       "      <td>2858</td>\n",
       "      <td>4</td>\n",
       "      <td>978225333</td>\n",
       "      <td>M</td>\n",
       "      <td>25</td>\n",
       "      <td>17</td>\n",
       "      <td>61614</td>\n",
       "      <td>American Beauty (1999)</td>\n",
       "      <td>Comedy|Drama</td>\n",
       "    </tr>\n",
       "    <tr>\n",
       "      <th>6</th>\n",
       "      <td>107015</td>\n",
       "      <td>107015</td>\n",
       "      <td>10</td>\n",
       "      <td>2858</td>\n",
       "      <td>3</td>\n",
       "      <td>978224627</td>\n",
       "      <td>F</td>\n",
       "      <td>35</td>\n",
       "      <td>1</td>\n",
       "      <td>95370</td>\n",
       "      <td>American Beauty (1999)</td>\n",
       "      <td>Comedy|Drama</td>\n",
       "    </tr>\n",
       "    <tr>\n",
       "      <th>7</th>\n",
       "      <td>107016</td>\n",
       "      <td>107016</td>\n",
       "      <td>11</td>\n",
       "      <td>2858</td>\n",
       "      <td>5</td>\n",
       "      <td>978219634</td>\n",
       "      <td>F</td>\n",
       "      <td>25</td>\n",
       "      <td>1</td>\n",
       "      <td>04093</td>\n",
       "      <td>American Beauty (1999)</td>\n",
       "      <td>Comedy|Drama</td>\n",
       "    </tr>\n",
       "    <tr>\n",
       "      <th>8</th>\n",
       "      <td>107017</td>\n",
       "      <td>107017</td>\n",
       "      <td>14</td>\n",
       "      <td>2858</td>\n",
       "      <td>3</td>\n",
       "      <td>978200645</td>\n",
       "      <td>M</td>\n",
       "      <td>35</td>\n",
       "      <td>0</td>\n",
       "      <td>60126</td>\n",
       "      <td>American Beauty (1999)</td>\n",
       "      <td>Comedy|Drama</td>\n",
       "    </tr>\n",
       "    <tr>\n",
       "      <th>9</th>\n",
       "      <td>107018</td>\n",
       "      <td>107018</td>\n",
       "      <td>15</td>\n",
       "      <td>2858</td>\n",
       "      <td>4</td>\n",
       "      <td>978196348</td>\n",
       "      <td>M</td>\n",
       "      <td>25</td>\n",
       "      <td>7</td>\n",
       "      <td>22903</td>\n",
       "      <td>American Beauty (1999)</td>\n",
       "      <td>Comedy|Drama</td>\n",
       "    </tr>\n",
       "    <tr>\n",
       "      <th>10</th>\n",
       "      <td>107019</td>\n",
       "      <td>107019</td>\n",
       "      <td>17</td>\n",
       "      <td>2858</td>\n",
       "      <td>5</td>\n",
       "      <td>978159467</td>\n",
       "      <td>M</td>\n",
       "      <td>50</td>\n",
       "      <td>1</td>\n",
       "      <td>95350</td>\n",
       "      <td>American Beauty (1999)</td>\n",
       "      <td>Comedy|Drama</td>\n",
       "    </tr>\n",
       "    <tr>\n",
       "      <th>11</th>\n",
       "      <td>107020</td>\n",
       "      <td>107020</td>\n",
       "      <td>18</td>\n",
       "      <td>2858</td>\n",
       "      <td>5</td>\n",
       "      <td>978156168</td>\n",
       "      <td>F</td>\n",
       "      <td>18</td>\n",
       "      <td>3</td>\n",
       "      <td>95825</td>\n",
       "      <td>American Beauty (1999)</td>\n",
       "      <td>Comedy|Drama</td>\n",
       "    </tr>\n",
       "    <tr>\n",
       "      <th>12</th>\n",
       "      <td>107021</td>\n",
       "      <td>107021</td>\n",
       "      <td>19</td>\n",
       "      <td>2858</td>\n",
       "      <td>5</td>\n",
       "      <td>982210072</td>\n",
       "      <td>M</td>\n",
       "      <td>1</td>\n",
       "      <td>10</td>\n",
       "      <td>48073</td>\n",
       "      <td>American Beauty (1999)</td>\n",
       "      <td>Comedy|Drama</td>\n",
       "    </tr>\n",
       "    <tr>\n",
       "      <th>13</th>\n",
       "      <td>107022</td>\n",
       "      <td>107022</td>\n",
       "      <td>20</td>\n",
       "      <td>2858</td>\n",
       "      <td>4</td>\n",
       "      <td>1009669071</td>\n",
       "      <td>M</td>\n",
       "      <td>25</td>\n",
       "      <td>14</td>\n",
       "      <td>55113</td>\n",
       "      <td>American Beauty (1999)</td>\n",
       "      <td>Comedy|Drama</td>\n",
       "    </tr>\n",
       "    <tr>\n",
       "      <th>14</th>\n",
       "      <td>107023</td>\n",
       "      <td>107023</td>\n",
       "      <td>22</td>\n",
       "      <td>2858</td>\n",
       "      <td>5</td>\n",
       "      <td>978134744</td>\n",
       "      <td>M</td>\n",
       "      <td>18</td>\n",
       "      <td>15</td>\n",
       "      <td>53706</td>\n",
       "      <td>American Beauty (1999)</td>\n",
       "      <td>Comedy|Drama</td>\n",
       "    </tr>\n",
       "    <tr>\n",
       "      <th>15</th>\n",
       "      <td>107024</td>\n",
       "      <td>107024</td>\n",
       "      <td>23</td>\n",
       "      <td>2858</td>\n",
       "      <td>4</td>\n",
       "      <td>978459672</td>\n",
       "      <td>M</td>\n",
       "      <td>35</td>\n",
       "      <td>0</td>\n",
       "      <td>90049</td>\n",
       "      <td>American Beauty (1999)</td>\n",
       "      <td>Comedy|Drama</td>\n",
       "    </tr>\n",
       "    <tr>\n",
       "      <th>16</th>\n",
       "      <td>107025</td>\n",
       "      <td>107025</td>\n",
       "      <td>24</td>\n",
       "      <td>2858</td>\n",
       "      <td>4</td>\n",
       "      <td>978132571</td>\n",
       "      <td>F</td>\n",
       "      <td>25</td>\n",
       "      <td>7</td>\n",
       "      <td>10023</td>\n",
       "      <td>American Beauty (1999)</td>\n",
       "      <td>Comedy|Drama</td>\n",
       "    </tr>\n",
       "    <tr>\n",
       "      <th>17</th>\n",
       "      <td>107026</td>\n",
       "      <td>107026</td>\n",
       "      <td>26</td>\n",
       "      <td>2858</td>\n",
       "      <td>4</td>\n",
       "      <td>978130715</td>\n",
       "      <td>M</td>\n",
       "      <td>25</td>\n",
       "      <td>7</td>\n",
       "      <td>23112</td>\n",
       "      <td>American Beauty (1999)</td>\n",
       "      <td>Comedy|Drama</td>\n",
       "    </tr>\n",
       "    <tr>\n",
       "      <th>18</th>\n",
       "      <td>107027</td>\n",
       "      <td>107027</td>\n",
       "      <td>27</td>\n",
       "      <td>2858</td>\n",
       "      <td>5</td>\n",
       "      <td>978128920</td>\n",
       "      <td>M</td>\n",
       "      <td>25</td>\n",
       "      <td>11</td>\n",
       "      <td>19130</td>\n",
       "      <td>American Beauty (1999)</td>\n",
       "      <td>Comedy|Drama</td>\n",
       "    </tr>\n",
       "    <tr>\n",
       "      <th>19</th>\n",
       "      <td>107028</td>\n",
       "      <td>107028</td>\n",
       "      <td>28</td>\n",
       "      <td>2858</td>\n",
       "      <td>4</td>\n",
       "      <td>978982159</td>\n",
       "      <td>F</td>\n",
       "      <td>25</td>\n",
       "      <td>1</td>\n",
       "      <td>14607</td>\n",
       "      <td>American Beauty (1999)</td>\n",
       "      <td>Comedy|Drama</td>\n",
       "    </tr>\n",
       "    <tr>\n",
       "      <th>20</th>\n",
       "      <td>107029</td>\n",
       "      <td>107029</td>\n",
       "      <td>30</td>\n",
       "      <td>2858</td>\n",
       "      <td>4</td>\n",
       "      <td>978121947</td>\n",
       "      <td>F</td>\n",
       "      <td>35</td>\n",
       "      <td>7</td>\n",
       "      <td>19143</td>\n",
       "      <td>American Beauty (1999)</td>\n",
       "      <td>Comedy|Drama</td>\n",
       "    </tr>\n",
       "    <tr>\n",
       "      <th>21</th>\n",
       "      <td>107030</td>\n",
       "      <td>107030</td>\n",
       "      <td>32</td>\n",
       "      <td>2858</td>\n",
       "      <td>4</td>\n",
       "      <td>978119364</td>\n",
       "      <td>F</td>\n",
       "      <td>25</td>\n",
       "      <td>0</td>\n",
       "      <td>19355</td>\n",
       "      <td>American Beauty (1999)</td>\n",
       "      <td>Comedy|Drama</td>\n",
       "    </tr>\n",
       "    <tr>\n",
       "      <th>22</th>\n",
       "      <td>107031</td>\n",
       "      <td>107031</td>\n",
       "      <td>33</td>\n",
       "      <td>2858</td>\n",
       "      <td>4</td>\n",
       "      <td>978108299</td>\n",
       "      <td>M</td>\n",
       "      <td>45</td>\n",
       "      <td>3</td>\n",
       "      <td>55421</td>\n",
       "      <td>American Beauty (1999)</td>\n",
       "      <td>Comedy|Drama</td>\n",
       "    </tr>\n",
       "    <tr>\n",
       "      <th>23</th>\n",
       "      <td>107032</td>\n",
       "      <td>107032</td>\n",
       "      <td>34</td>\n",
       "      <td>2858</td>\n",
       "      <td>5</td>\n",
       "      <td>978102938</td>\n",
       "      <td>F</td>\n",
       "      <td>18</td>\n",
       "      <td>0</td>\n",
       "      <td>02135</td>\n",
       "      <td>American Beauty (1999)</td>\n",
       "      <td>Comedy|Drama</td>\n",
       "    </tr>\n",
       "    <tr>\n",
       "      <th>24</th>\n",
       "      <td>107033</td>\n",
       "      <td>107033</td>\n",
       "      <td>35</td>\n",
       "      <td>2858</td>\n",
       "      <td>5</td>\n",
       "      <td>978100763</td>\n",
       "      <td>M</td>\n",
       "      <td>45</td>\n",
       "      <td>1</td>\n",
       "      <td>02482</td>\n",
       "      <td>American Beauty (1999)</td>\n",
       "      <td>Comedy|Drama</td>\n",
       "    </tr>\n",
       "    <tr>\n",
       "      <th>25</th>\n",
       "      <td>107034</td>\n",
       "      <td>107034</td>\n",
       "      <td>36</td>\n",
       "      <td>2858</td>\n",
       "      <td>4</td>\n",
       "      <td>978061508</td>\n",
       "      <td>M</td>\n",
       "      <td>25</td>\n",
       "      <td>3</td>\n",
       "      <td>94123</td>\n",
       "      <td>American Beauty (1999)</td>\n",
       "      <td>Comedy|Drama</td>\n",
       "    </tr>\n",
       "    <tr>\n",
       "      <th>26</th>\n",
       "      <td>107035</td>\n",
       "      <td>107035</td>\n",
       "      <td>39</td>\n",
       "      <td>2858</td>\n",
       "      <td>5</td>\n",
       "      <td>978043734</td>\n",
       "      <td>M</td>\n",
       "      <td>18</td>\n",
       "      <td>4</td>\n",
       "      <td>61820</td>\n",
       "      <td>American Beauty (1999)</td>\n",
       "      <td>Comedy|Drama</td>\n",
       "    </tr>\n",
       "    <tr>\n",
       "      <th>27</th>\n",
       "      <td>107036</td>\n",
       "      <td>107036</td>\n",
       "      <td>42</td>\n",
       "      <td>2858</td>\n",
       "      <td>4</td>\n",
       "      <td>978041581</td>\n",
       "      <td>M</td>\n",
       "      <td>25</td>\n",
       "      <td>8</td>\n",
       "      <td>24502</td>\n",
       "      <td>American Beauty (1999)</td>\n",
       "      <td>Comedy|Drama</td>\n",
       "    </tr>\n",
       "    <tr>\n",
       "      <th>28</th>\n",
       "      <td>107037</td>\n",
       "      <td>107037</td>\n",
       "      <td>43</td>\n",
       "      <td>2858</td>\n",
       "      <td>4</td>\n",
       "      <td>978026708</td>\n",
       "      <td>M</td>\n",
       "      <td>25</td>\n",
       "      <td>12</td>\n",
       "      <td>60614</td>\n",
       "      <td>American Beauty (1999)</td>\n",
       "      <td>Comedy|Drama</td>\n",
       "    </tr>\n",
       "    <tr>\n",
       "      <th>29</th>\n",
       "      <td>107038</td>\n",
       "      <td>107038</td>\n",
       "      <td>45</td>\n",
       "      <td>2858</td>\n",
       "      <td>3</td>\n",
       "      <td>977990018</td>\n",
       "      <td>F</td>\n",
       "      <td>45</td>\n",
       "      <td>16</td>\n",
       "      <td>94110</td>\n",
       "      <td>American Beauty (1999)</td>\n",
       "      <td>Comedy|Drama</td>\n",
       "    </tr>\n",
       "    <tr>\n",
       "      <th>...</th>\n",
       "      <td>...</td>\n",
       "      <td>...</td>\n",
       "      <td>...</td>\n",
       "      <td>...</td>\n",
       "      <td>...</td>\n",
       "      <td>...</td>\n",
       "      <td>...</td>\n",
       "      <td>...</td>\n",
       "      <td>...</td>\n",
       "      <td>...</td>\n",
       "      <td>...</td>\n",
       "      <td>...</td>\n",
       "    </tr>\n",
       "    <tr>\n",
       "      <th>3398</th>\n",
       "      <td>110407</td>\n",
       "      <td>110407</td>\n",
       "      <td>5956</td>\n",
       "      <td>2858</td>\n",
       "      <td>4</td>\n",
       "      <td>957076941</td>\n",
       "      <td>F</td>\n",
       "      <td>18</td>\n",
       "      <td>4</td>\n",
       "      <td>02142</td>\n",
       "      <td>American Beauty (1999)</td>\n",
       "      <td>Comedy|Drama</td>\n",
       "    </tr>\n",
       "    <tr>\n",
       "      <th>3399</th>\n",
       "      <td>110408</td>\n",
       "      <td>110408</td>\n",
       "      <td>5962</td>\n",
       "      <td>2858</td>\n",
       "      <td>5</td>\n",
       "      <td>957019883</td>\n",
       "      <td>M</td>\n",
       "      <td>35</td>\n",
       "      <td>7</td>\n",
       "      <td>80221</td>\n",
       "      <td>American Beauty (1999)</td>\n",
       "      <td>Comedy|Drama</td>\n",
       "    </tr>\n",
       "    <tr>\n",
       "      <th>3400</th>\n",
       "      <td>110409</td>\n",
       "      <td>110409</td>\n",
       "      <td>5963</td>\n",
       "      <td>2858</td>\n",
       "      <td>2</td>\n",
       "      <td>957018116</td>\n",
       "      <td>M</td>\n",
       "      <td>25</td>\n",
       "      <td>15</td>\n",
       "      <td>02140</td>\n",
       "      <td>American Beauty (1999)</td>\n",
       "      <td>Comedy|Drama</td>\n",
       "    </tr>\n",
       "    <tr>\n",
       "      <th>3401</th>\n",
       "      <td>110410</td>\n",
       "      <td>110410</td>\n",
       "      <td>5964</td>\n",
       "      <td>2858</td>\n",
       "      <td>5</td>\n",
       "      <td>956993104</td>\n",
       "      <td>M</td>\n",
       "      <td>18</td>\n",
       "      <td>5</td>\n",
       "      <td>97202</td>\n",
       "      <td>American Beauty (1999)</td>\n",
       "      <td>Comedy|Drama</td>\n",
       "    </tr>\n",
       "    <tr>\n",
       "      <th>3402</th>\n",
       "      <td>110411</td>\n",
       "      <td>110411</td>\n",
       "      <td>5965</td>\n",
       "      <td>2858</td>\n",
       "      <td>4</td>\n",
       "      <td>956975355</td>\n",
       "      <td>M</td>\n",
       "      <td>25</td>\n",
       "      <td>17</td>\n",
       "      <td>77449</td>\n",
       "      <td>American Beauty (1999)</td>\n",
       "      <td>Comedy|Drama</td>\n",
       "    </tr>\n",
       "    <tr>\n",
       "      <th>3403</th>\n",
       "      <td>110412</td>\n",
       "      <td>110412</td>\n",
       "      <td>5966</td>\n",
       "      <td>2858</td>\n",
       "      <td>3</td>\n",
       "      <td>964319995</td>\n",
       "      <td>F</td>\n",
       "      <td>35</td>\n",
       "      <td>9</td>\n",
       "      <td>10021</td>\n",
       "      <td>American Beauty (1999)</td>\n",
       "      <td>Comedy|Drama</td>\n",
       "    </tr>\n",
       "    <tr>\n",
       "      <th>3404</th>\n",
       "      <td>110413</td>\n",
       "      <td>110413</td>\n",
       "      <td>5972</td>\n",
       "      <td>2858</td>\n",
       "      <td>5</td>\n",
       "      <td>963614320</td>\n",
       "      <td>F</td>\n",
       "      <td>25</td>\n",
       "      <td>20</td>\n",
       "      <td>55428</td>\n",
       "      <td>American Beauty (1999)</td>\n",
       "      <td>Comedy|Drama</td>\n",
       "    </tr>\n",
       "    <tr>\n",
       "      <th>3405</th>\n",
       "      <td>110414</td>\n",
       "      <td>110414</td>\n",
       "      <td>5974</td>\n",
       "      <td>2858</td>\n",
       "      <td>4</td>\n",
       "      <td>956947169</td>\n",
       "      <td>F</td>\n",
       "      <td>25</td>\n",
       "      <td>1</td>\n",
       "      <td>32303</td>\n",
       "      <td>American Beauty (1999)</td>\n",
       "      <td>Comedy|Drama</td>\n",
       "    </tr>\n",
       "    <tr>\n",
       "      <th>3406</th>\n",
       "      <td>110415</td>\n",
       "      <td>110415</td>\n",
       "      <td>5975</td>\n",
       "      <td>2858</td>\n",
       "      <td>3</td>\n",
       "      <td>956946450</td>\n",
       "      <td>M</td>\n",
       "      <td>25</td>\n",
       "      <td>14</td>\n",
       "      <td>55104</td>\n",
       "      <td>American Beauty (1999)</td>\n",
       "      <td>Comedy|Drama</td>\n",
       "    </tr>\n",
       "    <tr>\n",
       "      <th>3407</th>\n",
       "      <td>110416</td>\n",
       "      <td>110416</td>\n",
       "      <td>5985</td>\n",
       "      <td>2858</td>\n",
       "      <td>4</td>\n",
       "      <td>960648480</td>\n",
       "      <td>F</td>\n",
       "      <td>18</td>\n",
       "      <td>4</td>\n",
       "      <td>78705-5221</td>\n",
       "      <td>American Beauty (1999)</td>\n",
       "      <td>Comedy|Drama</td>\n",
       "    </tr>\n",
       "    <tr>\n",
       "      <th>3408</th>\n",
       "      <td>110417</td>\n",
       "      <td>110417</td>\n",
       "      <td>5986</td>\n",
       "      <td>2858</td>\n",
       "      <td>5</td>\n",
       "      <td>956886950</td>\n",
       "      <td>F</td>\n",
       "      <td>56</td>\n",
       "      <td>1</td>\n",
       "      <td>01060</td>\n",
       "      <td>American Beauty (1999)</td>\n",
       "      <td>Comedy|Drama</td>\n",
       "    </tr>\n",
       "    <tr>\n",
       "      <th>3409</th>\n",
       "      <td>110418</td>\n",
       "      <td>110418</td>\n",
       "      <td>5988</td>\n",
       "      <td>2858</td>\n",
       "      <td>5</td>\n",
       "      <td>956875621</td>\n",
       "      <td>M</td>\n",
       "      <td>25</td>\n",
       "      <td>15</td>\n",
       "      <td>94022</td>\n",
       "      <td>American Beauty (1999)</td>\n",
       "      <td>Comedy|Drama</td>\n",
       "    </tr>\n",
       "    <tr>\n",
       "      <th>3410</th>\n",
       "      <td>110419</td>\n",
       "      <td>110419</td>\n",
       "      <td>5989</td>\n",
       "      <td>2858</td>\n",
       "      <td>5</td>\n",
       "      <td>956873659</td>\n",
       "      <td>F</td>\n",
       "      <td>1</td>\n",
       "      <td>10</td>\n",
       "      <td>74114</td>\n",
       "      <td>American Beauty (1999)</td>\n",
       "      <td>Comedy|Drama</td>\n",
       "    </tr>\n",
       "    <tr>\n",
       "      <th>3411</th>\n",
       "      <td>110420</td>\n",
       "      <td>110420</td>\n",
       "      <td>5992</td>\n",
       "      <td>2858</td>\n",
       "      <td>5</td>\n",
       "      <td>956865230</td>\n",
       "      <td>F</td>\n",
       "      <td>18</td>\n",
       "      <td>4</td>\n",
       "      <td>21046</td>\n",
       "      <td>American Beauty (1999)</td>\n",
       "      <td>Comedy|Drama</td>\n",
       "    </tr>\n",
       "    <tr>\n",
       "      <th>3412</th>\n",
       "      <td>110421</td>\n",
       "      <td>110421</td>\n",
       "      <td>5995</td>\n",
       "      <td>2858</td>\n",
       "      <td>5</td>\n",
       "      <td>956855282</td>\n",
       "      <td>F</td>\n",
       "      <td>35</td>\n",
       "      <td>1</td>\n",
       "      <td>14618</td>\n",
       "      <td>American Beauty (1999)</td>\n",
       "      <td>Comedy|Drama</td>\n",
       "    </tr>\n",
       "    <tr>\n",
       "      <th>3413</th>\n",
       "      <td>110422</td>\n",
       "      <td>110422</td>\n",
       "      <td>5996</td>\n",
       "      <td>2858</td>\n",
       "      <td>5</td>\n",
       "      <td>966871306</td>\n",
       "      <td>F</td>\n",
       "      <td>25</td>\n",
       "      <td>0</td>\n",
       "      <td>87114</td>\n",
       "      <td>American Beauty (1999)</td>\n",
       "      <td>Comedy|Drama</td>\n",
       "    </tr>\n",
       "    <tr>\n",
       "      <th>3414</th>\n",
       "      <td>110423</td>\n",
       "      <td>110423</td>\n",
       "      <td>5998</td>\n",
       "      <td>2858</td>\n",
       "      <td>5</td>\n",
       "      <td>1001781199</td>\n",
       "      <td>M</td>\n",
       "      <td>18</td>\n",
       "      <td>4</td>\n",
       "      <td>61820</td>\n",
       "      <td>American Beauty (1999)</td>\n",
       "      <td>Comedy|Drama</td>\n",
       "    </tr>\n",
       "    <tr>\n",
       "      <th>3415</th>\n",
       "      <td>110424</td>\n",
       "      <td>110424</td>\n",
       "      <td>6000</td>\n",
       "      <td>2858</td>\n",
       "      <td>3</td>\n",
       "      <td>956878814</td>\n",
       "      <td>M</td>\n",
       "      <td>45</td>\n",
       "      <td>17</td>\n",
       "      <td>30075</td>\n",
       "      <td>American Beauty (1999)</td>\n",
       "      <td>Comedy|Drama</td>\n",
       "    </tr>\n",
       "    <tr>\n",
       "      <th>3416</th>\n",
       "      <td>110425</td>\n",
       "      <td>110425</td>\n",
       "      <td>6001</td>\n",
       "      <td>2858</td>\n",
       "      <td>5</td>\n",
       "      <td>956801861</td>\n",
       "      <td>F</td>\n",
       "      <td>25</td>\n",
       "      <td>7</td>\n",
       "      <td>94117</td>\n",
       "      <td>American Beauty (1999)</td>\n",
       "      <td>Comedy|Drama</td>\n",
       "    </tr>\n",
       "    <tr>\n",
       "      <th>3417</th>\n",
       "      <td>110426</td>\n",
       "      <td>110426</td>\n",
       "      <td>6002</td>\n",
       "      <td>2858</td>\n",
       "      <td>5</td>\n",
       "      <td>960005223</td>\n",
       "      <td>M</td>\n",
       "      <td>50</td>\n",
       "      <td>0</td>\n",
       "      <td>43231</td>\n",
       "      <td>American Beauty (1999)</td>\n",
       "      <td>Comedy|Drama</td>\n",
       "    </tr>\n",
       "    <tr>\n",
       "      <th>3418</th>\n",
       "      <td>110427</td>\n",
       "      <td>110427</td>\n",
       "      <td>6003</td>\n",
       "      <td>2858</td>\n",
       "      <td>5</td>\n",
       "      <td>956797872</td>\n",
       "      <td>F</td>\n",
       "      <td>45</td>\n",
       "      <td>17</td>\n",
       "      <td>78722</td>\n",
       "      <td>American Beauty (1999)</td>\n",
       "      <td>Comedy|Drama</td>\n",
       "    </tr>\n",
       "    <tr>\n",
       "      <th>3419</th>\n",
       "      <td>110428</td>\n",
       "      <td>110428</td>\n",
       "      <td>6009</td>\n",
       "      <td>2858</td>\n",
       "      <td>5</td>\n",
       "      <td>956786693</td>\n",
       "      <td>F</td>\n",
       "      <td>25</td>\n",
       "      <td>12</td>\n",
       "      <td>60540</td>\n",
       "      <td>American Beauty (1999)</td>\n",
       "      <td>Comedy|Drama</td>\n",
       "    </tr>\n",
       "    <tr>\n",
       "      <th>3420</th>\n",
       "      <td>110429</td>\n",
       "      <td>110429</td>\n",
       "      <td>6013</td>\n",
       "      <td>2858</td>\n",
       "      <td>4</td>\n",
       "      <td>956861064</td>\n",
       "      <td>F</td>\n",
       "      <td>25</td>\n",
       "      <td>20</td>\n",
       "      <td>32301</td>\n",
       "      <td>American Beauty (1999)</td>\n",
       "      <td>Comedy|Drama</td>\n",
       "    </tr>\n",
       "    <tr>\n",
       "      <th>3421</th>\n",
       "      <td>110430</td>\n",
       "      <td>110430</td>\n",
       "      <td>6015</td>\n",
       "      <td>2858</td>\n",
       "      <td>5</td>\n",
       "      <td>956778946</td>\n",
       "      <td>F</td>\n",
       "      <td>25</td>\n",
       "      <td>9</td>\n",
       "      <td>80013</td>\n",
       "      <td>American Beauty (1999)</td>\n",
       "      <td>Comedy|Drama</td>\n",
       "    </tr>\n",
       "    <tr>\n",
       "      <th>3422</th>\n",
       "      <td>110431</td>\n",
       "      <td>110431</td>\n",
       "      <td>6016</td>\n",
       "      <td>2858</td>\n",
       "      <td>4</td>\n",
       "      <td>956779967</td>\n",
       "      <td>M</td>\n",
       "      <td>45</td>\n",
       "      <td>1</td>\n",
       "      <td>37209</td>\n",
       "      <td>American Beauty (1999)</td>\n",
       "      <td>Comedy|Drama</td>\n",
       "    </tr>\n",
       "    <tr>\n",
       "      <th>3423</th>\n",
       "      <td>110432</td>\n",
       "      <td>110432</td>\n",
       "      <td>6019</td>\n",
       "      <td>2858</td>\n",
       "      <td>5</td>\n",
       "      <td>956760552</td>\n",
       "      <td>M</td>\n",
       "      <td>25</td>\n",
       "      <td>0</td>\n",
       "      <td>10024</td>\n",
       "      <td>American Beauty (1999)</td>\n",
       "      <td>Comedy|Drama</td>\n",
       "    </tr>\n",
       "    <tr>\n",
       "      <th>3424</th>\n",
       "      <td>110433</td>\n",
       "      <td>110433</td>\n",
       "      <td>6027</td>\n",
       "      <td>2858</td>\n",
       "      <td>3</td>\n",
       "      <td>956726736</td>\n",
       "      <td>M</td>\n",
       "      <td>18</td>\n",
       "      <td>4</td>\n",
       "      <td>20742</td>\n",
       "      <td>American Beauty (1999)</td>\n",
       "      <td>Comedy|Drama</td>\n",
       "    </tr>\n",
       "    <tr>\n",
       "      <th>3425</th>\n",
       "      <td>110434</td>\n",
       "      <td>110434</td>\n",
       "      <td>6036</td>\n",
       "      <td>2858</td>\n",
       "      <td>5</td>\n",
       "      <td>956709453</td>\n",
       "      <td>F</td>\n",
       "      <td>25</td>\n",
       "      <td>15</td>\n",
       "      <td>32603</td>\n",
       "      <td>American Beauty (1999)</td>\n",
       "      <td>Comedy|Drama</td>\n",
       "    </tr>\n",
       "    <tr>\n",
       "      <th>3426</th>\n",
       "      <td>110435</td>\n",
       "      <td>110435</td>\n",
       "      <td>6037</td>\n",
       "      <td>2858</td>\n",
       "      <td>4</td>\n",
       "      <td>956709215</td>\n",
       "      <td>F</td>\n",
       "      <td>45</td>\n",
       "      <td>1</td>\n",
       "      <td>76006</td>\n",
       "      <td>American Beauty (1999)</td>\n",
       "      <td>Comedy|Drama</td>\n",
       "    </tr>\n",
       "    <tr>\n",
       "      <th>3427</th>\n",
       "      <td>110436</td>\n",
       "      <td>110436</td>\n",
       "      <td>6040</td>\n",
       "      <td>2858</td>\n",
       "      <td>4</td>\n",
       "      <td>956704475</td>\n",
       "      <td>M</td>\n",
       "      <td>25</td>\n",
       "      <td>6</td>\n",
       "      <td>11106</td>\n",
       "      <td>American Beauty (1999)</td>\n",
       "      <td>Comedy|Drama</td>\n",
       "    </tr>\n",
       "  </tbody>\n",
       "</table>\n",
       "<p>3428 rows × 12 columns</p>\n",
       "</div>"
      ],
      "text/plain": [
       "       index  Unnamed: 0  user_id  movie_id  rating   timestamp gender  age  \\\n",
       "0     107009      107009        2      2858       4   978298434      M   56   \n",
       "1     107010      107010        3      2858       4   978297039      M   25   \n",
       "2     107011      107011        5      2858       4   978241390      M   25   \n",
       "3     107012      107012        6      2858       1   978236809      F   50   \n",
       "4     107013      107013        8      2858       5   978229817      M   25   \n",
       "5     107014      107014        9      2858       4   978225333      M   25   \n",
       "6     107015      107015       10      2858       3   978224627      F   35   \n",
       "7     107016      107016       11      2858       5   978219634      F   25   \n",
       "8     107017      107017       14      2858       3   978200645      M   35   \n",
       "9     107018      107018       15      2858       4   978196348      M   25   \n",
       "10    107019      107019       17      2858       5   978159467      M   50   \n",
       "11    107020      107020       18      2858       5   978156168      F   18   \n",
       "12    107021      107021       19      2858       5   982210072      M    1   \n",
       "13    107022      107022       20      2858       4  1009669071      M   25   \n",
       "14    107023      107023       22      2858       5   978134744      M   18   \n",
       "15    107024      107024       23      2858       4   978459672      M   35   \n",
       "16    107025      107025       24      2858       4   978132571      F   25   \n",
       "17    107026      107026       26      2858       4   978130715      M   25   \n",
       "18    107027      107027       27      2858       5   978128920      M   25   \n",
       "19    107028      107028       28      2858       4   978982159      F   25   \n",
       "20    107029      107029       30      2858       4   978121947      F   35   \n",
       "21    107030      107030       32      2858       4   978119364      F   25   \n",
       "22    107031      107031       33      2858       4   978108299      M   45   \n",
       "23    107032      107032       34      2858       5   978102938      F   18   \n",
       "24    107033      107033       35      2858       5   978100763      M   45   \n",
       "25    107034      107034       36      2858       4   978061508      M   25   \n",
       "26    107035      107035       39      2858       5   978043734      M   18   \n",
       "27    107036      107036       42      2858       4   978041581      M   25   \n",
       "28    107037      107037       43      2858       4   978026708      M   25   \n",
       "29    107038      107038       45      2858       3   977990018      F   45   \n",
       "...      ...         ...      ...       ...     ...         ...    ...  ...   \n",
       "3398  110407      110407     5956      2858       4   957076941      F   18   \n",
       "3399  110408      110408     5962      2858       5   957019883      M   35   \n",
       "3400  110409      110409     5963      2858       2   957018116      M   25   \n",
       "3401  110410      110410     5964      2858       5   956993104      M   18   \n",
       "3402  110411      110411     5965      2858       4   956975355      M   25   \n",
       "3403  110412      110412     5966      2858       3   964319995      F   35   \n",
       "3404  110413      110413     5972      2858       5   963614320      F   25   \n",
       "3405  110414      110414     5974      2858       4   956947169      F   25   \n",
       "3406  110415      110415     5975      2858       3   956946450      M   25   \n",
       "3407  110416      110416     5985      2858       4   960648480      F   18   \n",
       "3408  110417      110417     5986      2858       5   956886950      F   56   \n",
       "3409  110418      110418     5988      2858       5   956875621      M   25   \n",
       "3410  110419      110419     5989      2858       5   956873659      F    1   \n",
       "3411  110420      110420     5992      2858       5   956865230      F   18   \n",
       "3412  110421      110421     5995      2858       5   956855282      F   35   \n",
       "3413  110422      110422     5996      2858       5   966871306      F   25   \n",
       "3414  110423      110423     5998      2858       5  1001781199      M   18   \n",
       "3415  110424      110424     6000      2858       3   956878814      M   45   \n",
       "3416  110425      110425     6001      2858       5   956801861      F   25   \n",
       "3417  110426      110426     6002      2858       5   960005223      M   50   \n",
       "3418  110427      110427     6003      2858       5   956797872      F   45   \n",
       "3419  110428      110428     6009      2858       5   956786693      F   25   \n",
       "3420  110429      110429     6013      2858       4   956861064      F   25   \n",
       "3421  110430      110430     6015      2858       5   956778946      F   25   \n",
       "3422  110431      110431     6016      2858       4   956779967      M   45   \n",
       "3423  110432      110432     6019      2858       5   956760552      M   25   \n",
       "3424  110433      110433     6027      2858       3   956726736      M   18   \n",
       "3425  110434      110434     6036      2858       5   956709453      F   25   \n",
       "3426  110435      110435     6037      2858       4   956709215      F   45   \n",
       "3427  110436      110436     6040      2858       4   956704475      M   25   \n",
       "\n",
       "      occupation         zip                   title        genres  \n",
       "0             16       70072  American Beauty (1999)  Comedy|Drama  \n",
       "1             15       55117  American Beauty (1999)  Comedy|Drama  \n",
       "2             20       55455  American Beauty (1999)  Comedy|Drama  \n",
       "3              9       55117  American Beauty (1999)  Comedy|Drama  \n",
       "4             12       11413  American Beauty (1999)  Comedy|Drama  \n",
       "5             17       61614  American Beauty (1999)  Comedy|Drama  \n",
       "6              1       95370  American Beauty (1999)  Comedy|Drama  \n",
       "7              1       04093  American Beauty (1999)  Comedy|Drama  \n",
       "8              0       60126  American Beauty (1999)  Comedy|Drama  \n",
       "9              7       22903  American Beauty (1999)  Comedy|Drama  \n",
       "10             1       95350  American Beauty (1999)  Comedy|Drama  \n",
       "11             3       95825  American Beauty (1999)  Comedy|Drama  \n",
       "12            10       48073  American Beauty (1999)  Comedy|Drama  \n",
       "13            14       55113  American Beauty (1999)  Comedy|Drama  \n",
       "14            15       53706  American Beauty (1999)  Comedy|Drama  \n",
       "15             0       90049  American Beauty (1999)  Comedy|Drama  \n",
       "16             7       10023  American Beauty (1999)  Comedy|Drama  \n",
       "17             7       23112  American Beauty (1999)  Comedy|Drama  \n",
       "18            11       19130  American Beauty (1999)  Comedy|Drama  \n",
       "19             1       14607  American Beauty (1999)  Comedy|Drama  \n",
       "20             7       19143  American Beauty (1999)  Comedy|Drama  \n",
       "21             0       19355  American Beauty (1999)  Comedy|Drama  \n",
       "22             3       55421  American Beauty (1999)  Comedy|Drama  \n",
       "23             0       02135  American Beauty (1999)  Comedy|Drama  \n",
       "24             1       02482  American Beauty (1999)  Comedy|Drama  \n",
       "25             3       94123  American Beauty (1999)  Comedy|Drama  \n",
       "26             4       61820  American Beauty (1999)  Comedy|Drama  \n",
       "27             8       24502  American Beauty (1999)  Comedy|Drama  \n",
       "28            12       60614  American Beauty (1999)  Comedy|Drama  \n",
       "29            16       94110  American Beauty (1999)  Comedy|Drama  \n",
       "...          ...         ...                     ...           ...  \n",
       "3398           4       02142  American Beauty (1999)  Comedy|Drama  \n",
       "3399           7       80221  American Beauty (1999)  Comedy|Drama  \n",
       "3400          15       02140  American Beauty (1999)  Comedy|Drama  \n",
       "3401           5       97202  American Beauty (1999)  Comedy|Drama  \n",
       "3402          17       77449  American Beauty (1999)  Comedy|Drama  \n",
       "3403           9       10021  American Beauty (1999)  Comedy|Drama  \n",
       "3404          20       55428  American Beauty (1999)  Comedy|Drama  \n",
       "3405           1       32303  American Beauty (1999)  Comedy|Drama  \n",
       "3406          14       55104  American Beauty (1999)  Comedy|Drama  \n",
       "3407           4  78705-5221  American Beauty (1999)  Comedy|Drama  \n",
       "3408           1       01060  American Beauty (1999)  Comedy|Drama  \n",
       "3409          15       94022  American Beauty (1999)  Comedy|Drama  \n",
       "3410          10       74114  American Beauty (1999)  Comedy|Drama  \n",
       "3411           4       21046  American Beauty (1999)  Comedy|Drama  \n",
       "3412           1       14618  American Beauty (1999)  Comedy|Drama  \n",
       "3413           0       87114  American Beauty (1999)  Comedy|Drama  \n",
       "3414           4       61820  American Beauty (1999)  Comedy|Drama  \n",
       "3415          17       30075  American Beauty (1999)  Comedy|Drama  \n",
       "3416           7       94117  American Beauty (1999)  Comedy|Drama  \n",
       "3417           0       43231  American Beauty (1999)  Comedy|Drama  \n",
       "3418          17       78722  American Beauty (1999)  Comedy|Drama  \n",
       "3419          12       60540  American Beauty (1999)  Comedy|Drama  \n",
       "3420          20       32301  American Beauty (1999)  Comedy|Drama  \n",
       "3421           9       80013  American Beauty (1999)  Comedy|Drama  \n",
       "3422           1       37209  American Beauty (1999)  Comedy|Drama  \n",
       "3423           0       10024  American Beauty (1999)  Comedy|Drama  \n",
       "3424           4       20742  American Beauty (1999)  Comedy|Drama  \n",
       "3425          15       32603  American Beauty (1999)  Comedy|Drama  \n",
       "3426           1       76006  American Beauty (1999)  Comedy|Drama  \n",
       "3427           6       11106  American Beauty (1999)  Comedy|Drama  \n",
       "\n",
       "[3428 rows x 12 columns]"
      ]
     },
     "execution_count": 107,
     "metadata": {},
     "output_type": "execute_result"
    }
   ],
   "source": [
    "# data['title] = data.title\n",
    "sub_data2 = data.loc[data.title == sd_ratings.index[0]].reset_index()\n",
    "sub_data2"
   ]
  },
  {
   "cell_type": "markdown",
   "metadata": {},
   "source": [
    "### 1.5. 자료 내 영화의 장르 분포 살펴보기"
   ]
  },
  {
   "cell_type": "code",
   "execution_count": 108,
   "metadata": {},
   "outputs": [
    {
     "data": {
      "text/plain": [
       "{'Action',\n",
       " 'Adventure',\n",
       " 'Animation',\n",
       " \"Children's\",\n",
       " 'Comedy',\n",
       " 'Crime',\n",
       " 'Documentary',\n",
       " 'Drama',\n",
       " 'Fantasy',\n",
       " 'Film-Noir',\n",
       " 'Horror',\n",
       " 'Musical',\n",
       " 'Mystery',\n",
       " 'Romance',\n",
       " 'Sci-Fi',\n",
       " 'Thriller',\n",
       " 'War',\n",
       " 'Western'}"
      ]
     },
     "execution_count": 108,
     "metadata": {},
     "output_type": "execute_result"
    }
   ],
   "source": [
    "# 장르 추출하기\n",
    "genre_labels = set()\n",
    "for s in movies['genres'].str.split('|').values:\n",
    "    genre_labels = genre_labels.union(set(s)) # list 형태를 set으로 받아옴.\n",
    "genre_labels"
   ]
  },
  {
   "cell_type": "code",
   "execution_count": 109,
   "metadata": {},
   "outputs": [
    {
     "data": {
      "text/plain": [
       "{'Action': 503,\n",
       " 'Adventure': 283,\n",
       " 'Animation': 105,\n",
       " \"Children's\": 251,\n",
       " 'Comedy': 1200,\n",
       " 'Crime': 211,\n",
       " 'Documentary': 127,\n",
       " 'Drama': 1603,\n",
       " 'Fantasy': 68,\n",
       " 'Film-Noir': 44,\n",
       " 'Horror': 343,\n",
       " 'Musical': 114,\n",
       " 'Mystery': 106,\n",
       " 'Romance': 471,\n",
       " 'Sci-Fi': 276,\n",
       " 'Thriller': 492,\n",
       " 'War': 143,\n",
       " 'Western': 68}"
      ]
     },
     "execution_count": 109,
     "metadata": {},
     "output_type": "execute_result"
    }
   ],
   "source": [
    "# 장르별 영화 수 추출하기\n",
    "keyword_count = dict() # dict는 counting 할 때 편리\n",
    "for s in genre_labels: keyword_count[s] = 0 # 장르명이 key, value는 0으로 설정\n",
    "for liste_keywords in movies['genres'].str.split('|'):\n",
    "    if type(liste_keywords) == float and pd.isnull(liste_keywords): # list의 키워드가 없거나 이상하면 continue\n",
    "        continue\n",
    "    for s in liste_keywords:\n",
    "        if pd.notnull(s): keyword_count[s] += 1 # value 값에 하나씩 더한다\n",
    "keyword_count"
   ]
  },
  {
   "cell_type": "code",
   "execution_count": 110,
   "metadata": {},
   "outputs": [
    {
     "data": {
      "text/plain": [
       "[['Drama', 1603],\n",
       " ['Comedy', 1200],\n",
       " ['Action', 503],\n",
       " ['Thriller', 492],\n",
       " ['Romance', 471],\n",
       " ['Horror', 343],\n",
       " ['Adventure', 283],\n",
       " ['Sci-Fi', 276],\n",
       " [\"Children's\", 251],\n",
       " ['Crime', 211],\n",
       " ['War', 143],\n",
       " ['Documentary', 127],\n",
       " ['Musical', 114],\n",
       " ['Mystery', 106],\n",
       " ['Animation', 105],\n",
       " ['Fantasy', 68],\n",
       " ['Western', 68],\n",
       " ['Film-Noir', 44]]"
      ]
     },
     "execution_count": 110,
     "metadata": {},
     "output_type": "execute_result"
    }
   ],
   "source": [
    "# 위의 데이터를 딕셔너리로 만들자\n",
    "keyword_occurences = [] # 빈 list 생성\n",
    "for k, v in keyword_count.items():\n",
    "    keyword_occurences.append([k, v]) # list append\n",
    "keyword_occurences.sort(key = lambda x:x[1], reverse = True) # value 값을 기준으로 내림차순 정렬\n",
    "keyword_occurences"
   ]
  },
  {
   "cell_type": "code",
   "execution_count": 111,
   "metadata": {},
   "outputs": [
    {
     "data": {
      "text/plain": [
       "<matplotlib.axes._subplots.AxesSubplot at 0x2d73f329358>"
      ]
     },
     "execution_count": 111,
     "metadata": {},
     "output_type": "execute_result"
    },
    {
     "data": {
      "text/plain": [
       "(array([ 0,  1,  2,  3,  4,  5,  6,  7,  8,  9, 10, 11, 12, 13, 14, 15, 16,\n",
       "        17]), <a list of 18 Text xticklabel objects>)"
      ]
     },
     "execution_count": 111,
     "metadata": {},
     "output_type": "execute_result"
    },
    {
     "data": {
      "image/png": "[encoded data removed]",
      "text/plain": [
       "<matplotlib.figure.Figure at 0x2d73f325b00>"
      ]
     },
     "metadata": {},
     "output_type": "display_data"
    }
   ],
   "source": [
    "# 위의 데이터를 barplot으로 시각화\n",
    "df = pd.DataFrame(keyword_occurences, columns = ['genre', 'counts'])\n",
    "sns.barplot(x = 'genre', y = 'counts', data = df)\n",
    "plt.xticks(rotation = 90) # 가독성 높이기 위해 x축 label을 90도 회전\n",
    "plt.show()"
   ]
  },
  {
   "cell_type": "markdown",
   "metadata": {},
   "source": [
    "### 1.6. 사용자의 나이 분포 살펴보기"
   ]
  },
  {
   "cell_type": "code",
   "execution_count": 112,
   "metadata": {},
   "outputs": [
    {
     "data": {
      "text/html": [
       "<div>\n",
       "<style scoped>\n",
       "    .dataframe tbody tr th:only-of-type {\n",
       "        vertical-align: middle;\n",
       "    }\n",
       "\n",
       "    .dataframe tbody tr th {\n",
       "        vertical-align: top;\n",
       "    }\n",
       "\n",
       "    .dataframe thead th {\n",
       "        text-align: right;\n",
       "    }\n",
       "</style>\n",
       "<table border=\"1\" class=\"dataframe\">\n",
       "  <thead>\n",
       "    <tr style=\"text-align: right;\">\n",
       "      <th></th>\n",
       "      <th>user_id</th>\n",
       "      <th>gender</th>\n",
       "      <th>age</th>\n",
       "      <th>occupation</th>\n",
       "      <th>zip</th>\n",
       "    </tr>\n",
       "  </thead>\n",
       "  <tbody>\n",
       "    <tr>\n",
       "      <th>0</th>\n",
       "      <td>1</td>\n",
       "      <td>F</td>\n",
       "      <td>1</td>\n",
       "      <td>10</td>\n",
       "      <td>48067</td>\n",
       "    </tr>\n",
       "    <tr>\n",
       "      <th>1</th>\n",
       "      <td>2</td>\n",
       "      <td>M</td>\n",
       "      <td>56</td>\n",
       "      <td>16</td>\n",
       "      <td>70072</td>\n",
       "    </tr>\n",
       "    <tr>\n",
       "      <th>2</th>\n",
       "      <td>3</td>\n",
       "      <td>M</td>\n",
       "      <td>25</td>\n",
       "      <td>15</td>\n",
       "      <td>55117</td>\n",
       "    </tr>\n",
       "    <tr>\n",
       "      <th>3</th>\n",
       "      <td>4</td>\n",
       "      <td>M</td>\n",
       "      <td>45</td>\n",
       "      <td>7</td>\n",
       "      <td>02460</td>\n",
       "    </tr>\n",
       "    <tr>\n",
       "      <th>4</th>\n",
       "      <td>5</td>\n",
       "      <td>M</td>\n",
       "      <td>25</td>\n",
       "      <td>20</td>\n",
       "      <td>55455</td>\n",
       "    </tr>\n",
       "  </tbody>\n",
       "</table>\n",
       "</div>"
      ],
      "text/plain": [
       "   user_id gender  age  occupation    zip\n",
       "0        1      F    1          10  48067\n",
       "1        2      M   56          16  70072\n",
       "2        3      M   25          15  55117\n",
       "3        4      M   45           7  02460\n",
       "4        5      M   25          20  55455"
      ]
     },
     "execution_count": 112,
     "metadata": {},
     "output_type": "execute_result"
    },
    {
     "data": {
      "text/html": [
       "<div>\n",
       "<style scoped>\n",
       "    .dataframe tbody tr th:only-of-type {\n",
       "        vertical-align: middle;\n",
       "    }\n",
       "\n",
       "    .dataframe tbody tr th {\n",
       "        vertical-align: top;\n",
       "    }\n",
       "\n",
       "    .dataframe thead th {\n",
       "        text-align: right;\n",
       "    }\n",
       "</style>\n",
       "<table border=\"1\" class=\"dataframe\">\n",
       "  <thead>\n",
       "    <tr style=\"text-align: right;\">\n",
       "      <th></th>\n",
       "      <th>index</th>\n",
       "      <th>percentage</th>\n",
       "    </tr>\n",
       "  </thead>\n",
       "  <tbody>\n",
       "    <tr>\n",
       "      <th>0</th>\n",
       "      <td>1</td>\n",
       "      <td>3.675497</td>\n",
       "    </tr>\n",
       "    <tr>\n",
       "      <th>1</th>\n",
       "      <td>56</td>\n",
       "      <td>6.291391</td>\n",
       "    </tr>\n",
       "    <tr>\n",
       "      <th>2</th>\n",
       "      <td>50</td>\n",
       "      <td>8.211921</td>\n",
       "    </tr>\n",
       "    <tr>\n",
       "      <th>3</th>\n",
       "      <td>45</td>\n",
       "      <td>9.105960</td>\n",
       "    </tr>\n",
       "    <tr>\n",
       "      <th>4</th>\n",
       "      <td>18</td>\n",
       "      <td>18.261589</td>\n",
       "    </tr>\n",
       "    <tr>\n",
       "      <th>5</th>\n",
       "      <td>35</td>\n",
       "      <td>19.751656</td>\n",
       "    </tr>\n",
       "    <tr>\n",
       "      <th>6</th>\n",
       "      <td>25</td>\n",
       "      <td>34.701987</td>\n",
       "    </tr>\n",
       "  </tbody>\n",
       "</table>\n",
       "</div>"
      ],
      "text/plain": [
       "   index  percentage\n",
       "0      1    3.675497\n",
       "1     56    6.291391\n",
       "2     50    8.211921\n",
       "3     45    9.105960\n",
       "4     18   18.261589\n",
       "5     35   19.751656\n",
       "6     25   34.701987"
      ]
     },
     "execution_count": 112,
     "metadata": {},
     "output_type": "execute_result"
    },
    {
     "data": {
      "text/plain": [
       "<matplotlib.axes._subplots.AxesSubplot at 0x2d73f29e860>"
      ]
     },
     "execution_count": 112,
     "metadata": {},
     "output_type": "execute_result"
    },
    {
     "data": {
      "text/plain": [
       "Text(0.5,0,'Age')"
      ]
     },
     "execution_count": 112,
     "metadata": {},
     "output_type": "execute_result"
    },
    {
     "data": {
      "text/plain": [
       "Text(0.5,1,'Distribution by Age')"
      ]
     },
     "execution_count": 112,
     "metadata": {},
     "output_type": "execute_result"
    },
    {
     "data": {
      "image/png": "[encoded data removed]",
      "text/plain": [
       "<matplotlib.figure.Figure at 0x2d73f2b07b8>"
      ]
     },
     "metadata": {},
     "output_type": "display_data"
    }
   ],
   "source": [
    "# 사용자의 나이 분포 barplot으로 시각화\n",
    "users.head()\n",
    "age_counts = (users['age'].\n",
    "              value_counts(normalize=True).\n",
    "              rename('percentage').\n",
    "              mul(100).\n",
    "              sort_values('index').\n",
    "              reset_index())\n",
    "age_counts # age는 범주형으로 분석하자\n",
    "sns.barplot(x='index', y='percentage', data=age_counts)\n",
    "plt.xlabel('Age')\n",
    "plt.title('Distribution by Age')\n",
    "plt.show()"
   ]
  },
  {
   "cell_type": "code",
   "execution_count": 113,
   "metadata": {},
   "outputs": [
    {
     "data": {
      "text/plain": [
       "<matplotlib.axes._subplots.AxesSubplot at 0x2d73d43d8d0>"
      ]
     },
     "execution_count": 113,
     "metadata": {},
     "output_type": "execute_result"
    },
    {
     "data": {
      "text/plain": [
       "Text(0.5,0,'Age')"
      ]
     },
     "execution_count": 113,
     "metadata": {},
     "output_type": "execute_result"
    },
    {
     "data": {
      "text/plain": [
       "Text(0.5,1,'Distribution by Age')"
      ]
     },
     "execution_count": 113,
     "metadata": {},
     "output_type": "execute_result"
    },
    {
     "data": {
      "image/png": "[encoded data removed]",
      "text/plain": [
       "<matplotlib.figure.Figure at 0x2d73d45b5f8>"
      ]
     },
     "metadata": {},
     "output_type": "display_data"
    }
   ],
   "source": [
    "# 사용자의 성별 나이 분포 barplot으로 시각화\n",
    "age_counts_by_sex = (users.groupby(['gender'])['age'].\n",
    "                     value_counts(normalize=True).\n",
    "                     rename('percentage').\n",
    "                     mul(100).\n",
    "                     sort_values().\n",
    "                     reset_index())\n",
    "sns.barplot(x='age', y='percentage', hue='gender', data=age_counts_by_sex)\n",
    "plt.xlabel('Age')\n",
    "plt.title('Distribution by Age')\n",
    "plt.show()"
   ]
  },
  {
   "cell_type": "markdown",
   "metadata": {},
   "source": [
    "### 1.7. 사용자의 나이/직업에 대한 이차원 분할표"
   ]
  },
  {
   "cell_type": "code",
   "execution_count": 114,
   "metadata": {},
   "outputs": [
    {
     "data": {
      "text/html": [
       "<div>\n",
       "<style scoped>\n",
       "    .dataframe tbody tr th:only-of-type {\n",
       "        vertical-align: middle;\n",
       "    }\n",
       "\n",
       "    .dataframe tbody tr th {\n",
       "        vertical-align: top;\n",
       "    }\n",
       "\n",
       "    .dataframe thead th {\n",
       "        text-align: right;\n",
       "    }\n",
       "</style>\n",
       "<table border=\"1\" class=\"dataframe\">\n",
       "  <thead>\n",
       "    <tr style=\"text-align: right;\">\n",
       "      <th>occupation</th>\n",
       "      <th>0</th>\n",
       "      <th>1</th>\n",
       "      <th>2</th>\n",
       "      <th>3</th>\n",
       "      <th>4</th>\n",
       "      <th>5</th>\n",
       "      <th>6</th>\n",
       "      <th>7</th>\n",
       "      <th>8</th>\n",
       "      <th>9</th>\n",
       "      <th>10</th>\n",
       "      <th>11</th>\n",
       "      <th>12</th>\n",
       "      <th>13</th>\n",
       "      <th>14</th>\n",
       "      <th>15</th>\n",
       "      <th>16</th>\n",
       "      <th>17</th>\n",
       "      <th>18</th>\n",
       "      <th>19</th>\n",
       "      <th>20</th>\n",
       "      <th>All</th>\n",
       "    </tr>\n",
       "    <tr>\n",
       "      <th>age</th>\n",
       "      <th></th>\n",
       "      <th></th>\n",
       "      <th></th>\n",
       "      <th></th>\n",
       "      <th></th>\n",
       "      <th></th>\n",
       "      <th></th>\n",
       "      <th></th>\n",
       "      <th></th>\n",
       "      <th></th>\n",
       "      <th></th>\n",
       "      <th></th>\n",
       "      <th></th>\n",
       "      <th></th>\n",
       "      <th></th>\n",
       "      <th></th>\n",
       "      <th></th>\n",
       "      <th></th>\n",
       "      <th></th>\n",
       "      <th></th>\n",
       "      <th></th>\n",
       "      <th></th>\n",
       "    </tr>\n",
       "  </thead>\n",
       "  <tbody>\n",
       "    <tr>\n",
       "      <th>1</th>\n",
       "      <td>27</td>\n",
       "      <td>4</td>\n",
       "      <td>3</td>\n",
       "      <td>0</td>\n",
       "      <td>3</td>\n",
       "      <td>0</td>\n",
       "      <td>0</td>\n",
       "      <td>2</td>\n",
       "      <td>1</td>\n",
       "      <td>0</td>\n",
       "      <td>163</td>\n",
       "      <td>1</td>\n",
       "      <td>1</td>\n",
       "      <td>1</td>\n",
       "      <td>2</td>\n",
       "      <td>0</td>\n",
       "      <td>0</td>\n",
       "      <td>2</td>\n",
       "      <td>0</td>\n",
       "      <td>12</td>\n",
       "      <td>0</td>\n",
       "      <td>222</td>\n",
       "    </tr>\n",
       "    <tr>\n",
       "      <th>18</th>\n",
       "      <td>106</td>\n",
       "      <td>45</td>\n",
       "      <td>44</td>\n",
       "      <td>18</td>\n",
       "      <td>534</td>\n",
       "      <td>18</td>\n",
       "      <td>9</td>\n",
       "      <td>17</td>\n",
       "      <td>1</td>\n",
       "      <td>6</td>\n",
       "      <td>29</td>\n",
       "      <td>7</td>\n",
       "      <td>59</td>\n",
       "      <td>0</td>\n",
       "      <td>37</td>\n",
       "      <td>14</td>\n",
       "      <td>18</td>\n",
       "      <td>52</td>\n",
       "      <td>10</td>\n",
       "      <td>30</td>\n",
       "      <td>49</td>\n",
       "      <td>1103</td>\n",
       "    </tr>\n",
       "    <tr>\n",
       "      <th>25</th>\n",
       "      <td>298</td>\n",
       "      <td>156</td>\n",
       "      <td>113</td>\n",
       "      <td>68</td>\n",
       "      <td>200</td>\n",
       "      <td>52</td>\n",
       "      <td>76</td>\n",
       "      <td>253</td>\n",
       "      <td>6</td>\n",
       "      <td>29</td>\n",
       "      <td>1</td>\n",
       "      <td>51</td>\n",
       "      <td>181</td>\n",
       "      <td>0</td>\n",
       "      <td>133</td>\n",
       "      <td>73</td>\n",
       "      <td>58</td>\n",
       "      <td>202</td>\n",
       "      <td>23</td>\n",
       "      <td>15</td>\n",
       "      <td>108</td>\n",
       "      <td>2096</td>\n",
       "    </tr>\n",
       "    <tr>\n",
       "      <th>35</th>\n",
       "      <td>135</td>\n",
       "      <td>118</td>\n",
       "      <td>47</td>\n",
       "      <td>42</td>\n",
       "      <td>14</td>\n",
       "      <td>25</td>\n",
       "      <td>59</td>\n",
       "      <td>214</td>\n",
       "      <td>3</td>\n",
       "      <td>35</td>\n",
       "      <td>1</td>\n",
       "      <td>31</td>\n",
       "      <td>86</td>\n",
       "      <td>5</td>\n",
       "      <td>70</td>\n",
       "      <td>25</td>\n",
       "      <td>58</td>\n",
       "      <td>132</td>\n",
       "      <td>16</td>\n",
       "      <td>9</td>\n",
       "      <td>68</td>\n",
       "      <td>1193</td>\n",
       "    </tr>\n",
       "    <tr>\n",
       "      <th>45</th>\n",
       "      <td>66</td>\n",
       "      <td>80</td>\n",
       "      <td>30</td>\n",
       "      <td>17</td>\n",
       "      <td>3</td>\n",
       "      <td>10</td>\n",
       "      <td>31</td>\n",
       "      <td>74</td>\n",
       "      <td>1</td>\n",
       "      <td>11</td>\n",
       "      <td>0</td>\n",
       "      <td>17</td>\n",
       "      <td>32</td>\n",
       "      <td>7</td>\n",
       "      <td>26</td>\n",
       "      <td>17</td>\n",
       "      <td>38</td>\n",
       "      <td>57</td>\n",
       "      <td>9</td>\n",
       "      <td>2</td>\n",
       "      <td>22</td>\n",
       "      <td>550</td>\n",
       "    </tr>\n",
       "    <tr>\n",
       "      <th>50</th>\n",
       "      <td>46</td>\n",
       "      <td>70</td>\n",
       "      <td>18</td>\n",
       "      <td>16</td>\n",
       "      <td>5</td>\n",
       "      <td>6</td>\n",
       "      <td>40</td>\n",
       "      <td>80</td>\n",
       "      <td>2</td>\n",
       "      <td>7</td>\n",
       "      <td>0</td>\n",
       "      <td>16</td>\n",
       "      <td>22</td>\n",
       "      <td>27</td>\n",
       "      <td>19</td>\n",
       "      <td>8</td>\n",
       "      <td>45</td>\n",
       "      <td>35</td>\n",
       "      <td>9</td>\n",
       "      <td>2</td>\n",
       "      <td>23</td>\n",
       "      <td>496</td>\n",
       "    </tr>\n",
       "    <tr>\n",
       "      <th>56</th>\n",
       "      <td>33</td>\n",
       "      <td>55</td>\n",
       "      <td>12</td>\n",
       "      <td>12</td>\n",
       "      <td>0</td>\n",
       "      <td>1</td>\n",
       "      <td>21</td>\n",
       "      <td>39</td>\n",
       "      <td>3</td>\n",
       "      <td>4</td>\n",
       "      <td>1</td>\n",
       "      <td>6</td>\n",
       "      <td>7</td>\n",
       "      <td>102</td>\n",
       "      <td>15</td>\n",
       "      <td>7</td>\n",
       "      <td>24</td>\n",
       "      <td>22</td>\n",
       "      <td>3</td>\n",
       "      <td>2</td>\n",
       "      <td>11</td>\n",
       "      <td>380</td>\n",
       "    </tr>\n",
       "    <tr>\n",
       "      <th>All</th>\n",
       "      <td>711</td>\n",
       "      <td>528</td>\n",
       "      <td>267</td>\n",
       "      <td>173</td>\n",
       "      <td>759</td>\n",
       "      <td>112</td>\n",
       "      <td>236</td>\n",
       "      <td>679</td>\n",
       "      <td>17</td>\n",
       "      <td>92</td>\n",
       "      <td>195</td>\n",
       "      <td>129</td>\n",
       "      <td>388</td>\n",
       "      <td>142</td>\n",
       "      <td>302</td>\n",
       "      <td>144</td>\n",
       "      <td>241</td>\n",
       "      <td>502</td>\n",
       "      <td>70</td>\n",
       "      <td>72</td>\n",
       "      <td>281</td>\n",
       "      <td>6040</td>\n",
       "    </tr>\n",
       "  </tbody>\n",
       "</table>\n",
       "</div>"
      ],
      "text/plain": [
       "occupation    0    1    2    3    4    5    6    7   8   9   10   11   12  \\\n",
       "age                                                                         \n",
       "1            27    4    3    0    3    0    0    2   1   0  163    1    1   \n",
       "18          106   45   44   18  534   18    9   17   1   6   29    7   59   \n",
       "25          298  156  113   68  200   52   76  253   6  29    1   51  181   \n",
       "35          135  118   47   42   14   25   59  214   3  35    1   31   86   \n",
       "45           66   80   30   17    3   10   31   74   1  11    0   17   32   \n",
       "50           46   70   18   16    5    6   40   80   2   7    0   16   22   \n",
       "56           33   55   12   12    0    1   21   39   3   4    1    6    7   \n",
       "All         711  528  267  173  759  112  236  679  17  92  195  129  388   \n",
       "\n",
       "occupation   13   14   15   16   17  18  19   20   All  \n",
       "age                                                     \n",
       "1             1    2    0    0    2   0  12    0   222  \n",
       "18            0   37   14   18   52  10  30   49  1103  \n",
       "25            0  133   73   58  202  23  15  108  2096  \n",
       "35            5   70   25   58  132  16   9   68  1193  \n",
       "45            7   26   17   38   57   9   2   22   550  \n",
       "50           27   19    8   45   35   9   2   23   496  \n",
       "56          102   15    7   24   22   3   2   11   380  \n",
       "All         142  302  144  241  502  70  72  281  6040  "
      ]
     },
     "execution_count": 114,
     "metadata": {},
     "output_type": "execute_result"
    }
   ],
   "source": [
    "### ...로 보이는 게 싫으면 margin 변경\n",
    "pd.set_option('display.max_columns', 30)\n",
    "pd.crosstab(users['age'], users['occupation'], margins = True)"
   ]
  },
  {
   "cell_type": "markdown",
   "metadata": {},
   "source": [
    "## 2. 확률분포\n",
    "- Python에서 대부분의 확률 분포는 scipy.stats 라이브러리를 사용"
   ]
  },
  {
   "cell_type": "markdown",
   "metadata": {},
   "source": [
    "### 2.1. 이항분포"
   ]
  },
  {
   "cell_type": "code",
   "execution_count": 115,
   "metadata": {},
   "outputs": [],
   "source": [
    "from scipy.stats import binom"
   ]
  },
  {
   "cell_type": "code",
   "execution_count": 116,
   "metadata": {},
   "outputs": [
    {
     "data": {
      "text/plain": [
       "<matplotlib.collections.LineCollection at 0x2d73f264240>"
      ]
     },
     "execution_count": 116,
     "metadata": {},
     "output_type": "execute_result"
    },
    {
     "data": {
      "image/png": "[encoded data removed]",
      "text/plain": [
       "<matplotlib.figure.Figure at 0x2d73f30b278>"
      ]
     },
     "metadata": {},
     "output_type": "display_data"
    }
   ],
   "source": [
    "n, p = 20, 0.1\n",
    "rv = binom(n, p)\n",
    "x = np.arange(0, n) # 0부터 n-1까지의 어레이\n",
    "fig, ax = plt.subplots()\n",
    "ax.vlines(x, 0, rv.pmf(x), colors ='b', linestyles ='-', lw = 3)\n",
    "plt.show()"
   ]
  },
  {
   "cell_type": "code",
   "execution_count": 117,
   "metadata": {},
   "outputs": [
    {
     "data": {
      "text/plain": [
       "<matplotlib.collections.LineCollection at 0x2d73f2dc860>"
      ]
     },
     "execution_count": 117,
     "metadata": {},
     "output_type": "execute_result"
    },
    {
     "data": {
      "image/png": "[encoded data removed]",
      "text/plain": [
       "<matplotlib.figure.Figure at 0x2d73d445da0>"
      ]
     },
     "metadata": {},
     "output_type": "display_data"
    }
   ],
   "source": [
    "n, p = 20, 0.9\n",
    "rv = binom(n, p)\n",
    "x = np.arange(0, n)\n",
    "fig, ax = plt.subplots()\n",
    "ax.vlines(x, 0, rv.pmf(x), colors ='b', linestyles ='-', lw = 3)\n",
    "plt.show()"
   ]
  },
  {
   "cell_type": "code",
   "execution_count": 118,
   "metadata": {},
   "outputs": [
    {
     "data": {
      "text/plain": [
       "0.043174495284463356"
      ]
     },
     "execution_count": 118,
     "metadata": {},
     "output_type": "execute_result"
    }
   ],
   "source": [
    "# cdf : 누적 분포 함수\n",
    "n, p = 20, 0.9\n",
    "binom.cdf(k = 15, n = n, p = p) # 누적 함수 계산: 15보다 작을 확률을 다 더한 값"
   ]
  },
  {
   "cell_type": "code",
   "execution_count": 119,
   "metadata": {},
   "outputs": [
    {
     "data": {
      "text/plain": [
       "0.8784233454094307"
      ]
     },
     "execution_count": 119,
     "metadata": {},
     "output_type": "execute_result"
    }
   ],
   "source": [
    "n, p = 20, 0.9\n",
    "binom.cdf(k = 19, n = n, p = p) # p-value 계산 시 주로 사용"
   ]
  },
  {
   "cell_type": "code",
   "execution_count": 120,
   "metadata": {},
   "outputs": [
    {
     "data": {
      "text/plain": [
       "0.9741732113380902"
      ]
     },
     "execution_count": 120,
     "metadata": {},
     "output_type": "execute_result"
    },
    {
     "data": {
      "text/plain": [
       "0.007783619237921258"
      ]
     },
     "execution_count": 120,
     "metadata": {},
     "output_type": "execute_result"
    }
   ],
   "source": [
    "binom.cdf(k = 6, n = 30, p = 0.1)\n",
    "1 - binom.cdf(k = 7, n = 30, p = 0.1)"
   ]
  },
  {
   "cell_type": "code",
   "execution_count": 121,
   "metadata": {},
   "outputs": [
    {
     "data": {
      "text/plain": [
       "array([3, 4, 0, 2, 1, 1, 2, 2, 2, 3])"
      ]
     },
     "execution_count": 121,
     "metadata": {},
     "output_type": "execute_result"
    },
    {
     "data": {
      "text/plain": [
       "array([3, 4, 0, 2, 1, 1, 2, 2, 2, 3])"
      ]
     },
     "execution_count": 121,
     "metadata": {},
     "output_type": "execute_result"
    }
   ],
   "source": [
    "np.random.seed(1)\n",
    "binom.rvs(n = 30, p = 0.1, size = 10)\n",
    "binom.rvs(n = 30, p = 0.1, size = 10, random_state = 1)"
   ]
  },
  {
   "cell_type": "markdown",
   "metadata": {},
   "source": [
    "### 2.2. 균등분포"
   ]
  },
  {
   "cell_type": "code",
   "execution_count": 122,
   "metadata": {},
   "outputs": [],
   "source": [
    "from scipy.stats import uniform"
   ]
  },
  {
   "cell_type": "code",
   "execution_count": 123,
   "metadata": {},
   "outputs": [
    {
     "data": {
      "text/plain": [
       "[<matplotlib.lines.Line2D at 0x2d73f3509b0>]"
      ]
     },
     "execution_count": 123,
     "metadata": {},
     "output_type": "execute_result"
    },
    {
     "data": {
      "text/plain": [
       "(array([0.96621369, 1.0042221 , 1.05223272, 0.97221502, 0.96821413,\n",
       "        1.04023006, 0.99822077, 1.00022121, 1.02422652, 0.9762159 ]),\n",
       " array([9.69506877e-05, 1.00074834e-01, 2.00052718e-01, 3.00030602e-01,\n",
       "        4.00008485e-01, 4.99986369e-01, 5.99964253e-01, 6.99942137e-01,\n",
       "        7.99920020e-01, 8.99897904e-01, 9.99875788e-01]),\n",
       " <a list of 10 Patch objects>)"
      ]
     },
     "execution_count": 123,
     "metadata": {},
     "output_type": "execute_result"
    },
    {
     "data": {
      "image/png": "[encoded data removed]",
      "text/plain": [
       "<matplotlib.figure.Figure at 0x2d73f350278>"
      ]
     },
     "metadata": {},
     "output_type": "display_data"
    }
   ],
   "source": [
    "# pdf : 확률 분포 함수\n",
    "x = np.linspace(0, 1, 1000) # 1000개의 sequence 생성\n",
    "fig, ax = plt.subplots() # plot 하나 그릴거야\n",
    "ax.plot(x, uniform.pdf(x), 'r-', lw= 5, alpha = 0.6, label = 'uniform pdf')\n",
    "\n",
    "r = uniform.rvs(size = 5000)\n",
    "ax.hist(r, alpha = 0.5, normed = True) # normalization 설정\n",
    "plt.show()"
   ]
  },
  {
   "cell_type": "code",
   "execution_count": 124,
   "metadata": {},
   "outputs": [
    {
     "name": "stdout",
     "output_type": "stream",
     "text": [
      "mean =  7.5\n",
      "var =  2.083333333333333\n",
      "prob =  0.4\n"
     ]
    }
   ],
   "source": [
    "u = uniform(loc = 5, scale = 5)\n",
    "print('mean = ', u.mean())\n",
    "print('var = ', u.var())\n",
    "print('prob = ', 1-u.cdf(x = 8)) # 8년 이상의 수명을 가질 확률"
   ]
  },
  {
   "cell_type": "code",
   "execution_count": 125,
   "metadata": {},
   "outputs": [
    {
     "data": {
      "text/plain": [
       "array([8.86465509, 7.99074382, 5.0727166 , 5.2101211 , 5.90485329,\n",
       "       9.86015335, 6.27300094, 8.75504413, 6.40617605, 6.27759309])"
      ]
     },
     "execution_count": 125,
     "metadata": {},
     "output_type": "execute_result"
    }
   ],
   "source": [
    "uniform.rvs(loc = 5, scale = 5, size = 10) # R과 마찬가지로 난수 생성 방식이 거의 동일함."
   ]
  },
  {
   "cell_type": "markdown",
   "metadata": {},
   "source": [
    "### 2.3. 정규분포"
   ]
  },
  {
   "cell_type": "code",
   "execution_count": 126,
   "metadata": {},
   "outputs": [],
   "source": [
    "from scipy.stats import norm"
   ]
  },
  {
   "cell_type": "code",
   "execution_count": 127,
   "metadata": {},
   "outputs": [
    {
     "data": {
      "text/plain": [
       "0.38138781546052414"
      ]
     },
     "execution_count": 127,
     "metadata": {},
     "output_type": "execute_result"
    }
   ],
   "source": [
    "# 0부터 1까지 중에 0.3보다 작을 확률 = 0.3\n",
    "loc, scale = 0, 1\n",
    "norm.pdf(0.3, loc, scale)"
   ]
  },
  {
   "cell_type": "code",
   "execution_count": 128,
   "metadata": {},
   "outputs": [
    {
     "data": {
      "text/plain": [
       "[<matplotlib.lines.Line2D at 0x2d73f365b70>]"
      ]
     },
     "execution_count": 128,
     "metadata": {},
     "output_type": "execute_result"
    },
    {
     "data": {
      "text/plain": [
       "(array([0.00819562, 0.0327825 , 0.08359537, 0.18030374, 0.31471198,\n",
       "        0.41142035, 0.33438148, 0.15571687, 0.08851274, 0.02950425]),\n",
       " array([-3.25303423, -2.6429526 , -2.03287096, -1.42278933, -0.81270769,\n",
       "        -0.20262606,  0.40745558,  1.01753721,  1.62761885,  2.23770048,\n",
       "         2.84778212]),\n",
       " <a list of 10 Patch objects>)"
      ]
     },
     "execution_count": 128,
     "metadata": {},
     "output_type": "execute_result"
    },
    {
     "data": {
      "image/png": "[encoded data removed]",
      "text/plain": [
       "<matplotlib.figure.Figure at 0x2d73f365f60>"
      ]
     },
     "metadata": {},
     "output_type": "display_data"
    }
   ],
   "source": [
    "x = np.linspace(-5, 5, 200)\n",
    "fig, ax = plt.subplots()\n",
    "ax.plot(x, norm.pdf(x), 'r-', lw = 5, alpha = 0.6, label = 'norm pdf')\n",
    "\n",
    "r = norm.rvs(size = 1000)\n",
    "ax.hist(r, alpha = 0.5, normed = True)\n",
    "plt.show()"
   ]
  },
  {
   "cell_type": "code",
   "execution_count": 129,
   "metadata": {},
   "outputs": [
    {
     "data": {
      "text/plain": [
       "0.3989422804014327"
      ]
     },
     "execution_count": 129,
     "metadata": {},
     "output_type": "execute_result"
    }
   ],
   "source": [
    "# 정규분포의 확률밀도함수 및 분위수\n",
    "normal = norm(loc = 0, scale = 1)\n",
    "normal.pdf(0)"
   ]
  },
  {
   "cell_type": "code",
   "execution_count": 130,
   "metadata": {},
   "outputs": [
    {
     "data": {
      "text/plain": [
       "0.8413447460685429"
      ]
     },
     "execution_count": 130,
     "metadata": {},
     "output_type": "execute_result"
    },
    {
     "data": {
      "text/plain": [
       "0.0"
      ]
     },
     "execution_count": 130,
     "metadata": {},
     "output_type": "execute_result"
    },
    {
     "data": {
      "text/plain": [
       "array([-0.07171323,  0.44552528, -0.1218591 ,  0.19084898, -2.27215913,\n",
       "       -2.91449892,  0.39093519, -1.16573849,  0.81185647, -0.96284878])"
      ]
     },
     "execution_count": 130,
     "metadata": {},
     "output_type": "execute_result"
    }
   ],
   "source": [
    "normal.cdf(1) # pnorm\n",
    "normal.ppf(0.5) # qnorm\n",
    "# qqplot 그릴 때 normal.ppf 활용\n",
    "\n",
    "normal.rvs(size = 10)"
   ]
  },
  {
   "cell_type": "markdown",
   "metadata": {},
   "source": [
    "## 3. 분포에 관한 추론"
   ]
  },
  {
   "cell_type": "markdown",
   "metadata": {},
   "source": [
    "### 3.1. 모평균(모분산을 알 때 / 모를 때) 추론, 신뢰구간, t-test"
   ]
  },
  {
   "cell_type": "code",
   "execution_count": 131,
   "metadata": {},
   "outputs": [
    {
     "data": {
      "text/html": [
       "<div>\n",
       "<style scoped>\n",
       "    .dataframe tbody tr th:only-of-type {\n",
       "        vertical-align: middle;\n",
       "    }\n",
       "\n",
       "    .dataframe tbody tr th {\n",
       "        vertical-align: top;\n",
       "    }\n",
       "\n",
       "    .dataframe thead th {\n",
       "        text-align: right;\n",
       "    }\n",
       "</style>\n",
       "<table border=\"1\" class=\"dataframe\">\n",
       "  <thead>\n",
       "    <tr style=\"text-align: right;\">\n",
       "      <th></th>\n",
       "      <th>SepalLengthCm</th>\n",
       "      <th>SepalWidthCm</th>\n",
       "      <th>PetalLengthCm</th>\n",
       "      <th>PetalWidthCm</th>\n",
       "      <th>Species</th>\n",
       "    </tr>\n",
       "  </thead>\n",
       "  <tbody>\n",
       "    <tr>\n",
       "      <th>0</th>\n",
       "      <td>5.1</td>\n",
       "      <td>3.5</td>\n",
       "      <td>1.4</td>\n",
       "      <td>0.2</td>\n",
       "      <td>Iris-setosa</td>\n",
       "    </tr>\n",
       "    <tr>\n",
       "      <th>1</th>\n",
       "      <td>4.9</td>\n",
       "      <td>3.0</td>\n",
       "      <td>1.4</td>\n",
       "      <td>0.2</td>\n",
       "      <td>Iris-setosa</td>\n",
       "    </tr>\n",
       "    <tr>\n",
       "      <th>2</th>\n",
       "      <td>4.7</td>\n",
       "      <td>3.2</td>\n",
       "      <td>1.3</td>\n",
       "      <td>0.2</td>\n",
       "      <td>Iris-setosa</td>\n",
       "    </tr>\n",
       "    <tr>\n",
       "      <th>3</th>\n",
       "      <td>4.6</td>\n",
       "      <td>3.1</td>\n",
       "      <td>1.5</td>\n",
       "      <td>0.2</td>\n",
       "      <td>Iris-setosa</td>\n",
       "    </tr>\n",
       "    <tr>\n",
       "      <th>4</th>\n",
       "      <td>5.0</td>\n",
       "      <td>3.6</td>\n",
       "      <td>1.4</td>\n",
       "      <td>0.2</td>\n",
       "      <td>Iris-setosa</td>\n",
       "    </tr>\n",
       "  </tbody>\n",
       "</table>\n",
       "</div>"
      ],
      "text/plain": [
       "   SepalLengthCm  SepalWidthCm  PetalLengthCm  PetalWidthCm      Species\n",
       "0            5.1           3.5            1.4           0.2  Iris-setosa\n",
       "1            4.9           3.0            1.4           0.2  Iris-setosa\n",
       "2            4.7           3.2            1.3           0.2  Iris-setosa\n",
       "3            4.6           3.1            1.5           0.2  Iris-setosa\n",
       "4            5.0           3.6            1.4           0.2  Iris-setosa"
      ]
     },
     "execution_count": 131,
     "metadata": {},
     "output_type": "execute_result"
    }
   ],
   "source": [
    "iris = pd.read_csv('Iris.csv')\n",
    "iris = iris.drop('Id', axis=1) # 변수 하나에 대해서만 진행!\n",
    "iris.head()"
   ]
  },
  {
   "cell_type": "code",
   "execution_count": 132,
   "metadata": {},
   "outputs": [
    {
     "data": {
      "text/html": [
       "<div>\n",
       "<style scoped>\n",
       "    .dataframe tbody tr th:only-of-type {\n",
       "        vertical-align: middle;\n",
       "    }\n",
       "\n",
       "    .dataframe tbody tr th {\n",
       "        vertical-align: top;\n",
       "    }\n",
       "\n",
       "    .dataframe thead th {\n",
       "        text-align: right;\n",
       "    }\n",
       "</style>\n",
       "<table border=\"1\" class=\"dataframe\">\n",
       "  <thead>\n",
       "    <tr style=\"text-align: right;\">\n",
       "      <th></th>\n",
       "      <th>SepalLengthCm</th>\n",
       "      <th>SepalWidthCm</th>\n",
       "      <th>PetalLengthCm</th>\n",
       "      <th>PetalWidthCm</th>\n",
       "    </tr>\n",
       "    <tr>\n",
       "      <th>Species</th>\n",
       "      <th></th>\n",
       "      <th></th>\n",
       "      <th></th>\n",
       "      <th></th>\n",
       "    </tr>\n",
       "  </thead>\n",
       "  <tbody>\n",
       "    <tr>\n",
       "      <th>Iris-setosa</th>\n",
       "      <td>5.006</td>\n",
       "      <td>3.418</td>\n",
       "      <td>1.464</td>\n",
       "      <td>0.244</td>\n",
       "    </tr>\n",
       "    <tr>\n",
       "      <th>Iris-versicolor</th>\n",
       "      <td>5.936</td>\n",
       "      <td>2.770</td>\n",
       "      <td>4.260</td>\n",
       "      <td>1.326</td>\n",
       "    </tr>\n",
       "    <tr>\n",
       "      <th>Iris-virginica</th>\n",
       "      <td>6.588</td>\n",
       "      <td>2.974</td>\n",
       "      <td>5.552</td>\n",
       "      <td>2.026</td>\n",
       "    </tr>\n",
       "  </tbody>\n",
       "</table>\n",
       "</div>"
      ],
      "text/plain": [
       "                 SepalLengthCm  SepalWidthCm  PetalLengthCm  PetalWidthCm\n",
       "Species                                                                  \n",
       "Iris-setosa              5.006         3.418          1.464         0.244\n",
       "Iris-versicolor          5.936         2.770          4.260         1.326\n",
       "Iris-virginica           6.588         2.974          5.552         2.026"
      ]
     },
     "execution_count": 132,
     "metadata": {},
     "output_type": "execute_result"
    },
    {
     "data": {
      "text/html": [
       "<div>\n",
       "<style scoped>\n",
       "    .dataframe tbody tr th:only-of-type {\n",
       "        vertical-align: middle;\n",
       "    }\n",
       "\n",
       "    .dataframe tbody tr th {\n",
       "        vertical-align: top;\n",
       "    }\n",
       "\n",
       "    .dataframe thead th {\n",
       "        text-align: right;\n",
       "    }\n",
       "</style>\n",
       "<table border=\"1\" class=\"dataframe\">\n",
       "  <thead>\n",
       "    <tr style=\"text-align: right;\">\n",
       "      <th></th>\n",
       "      <th>SepalLengthCm</th>\n",
       "      <th>SepalWidthCm</th>\n",
       "      <th>PetalLengthCm</th>\n",
       "      <th>PetalWidthCm</th>\n",
       "    </tr>\n",
       "    <tr>\n",
       "      <th>Species</th>\n",
       "      <th></th>\n",
       "      <th></th>\n",
       "      <th></th>\n",
       "      <th></th>\n",
       "    </tr>\n",
       "  </thead>\n",
       "  <tbody>\n",
       "    <tr>\n",
       "      <th>Iris-setosa</th>\n",
       "      <td>0.124249</td>\n",
       "      <td>0.145180</td>\n",
       "      <td>0.030106</td>\n",
       "      <td>0.011494</td>\n",
       "    </tr>\n",
       "    <tr>\n",
       "      <th>Iris-versicolor</th>\n",
       "      <td>0.266433</td>\n",
       "      <td>0.098469</td>\n",
       "      <td>0.220816</td>\n",
       "      <td>0.039106</td>\n",
       "    </tr>\n",
       "    <tr>\n",
       "      <th>Iris-virginica</th>\n",
       "      <td>0.404343</td>\n",
       "      <td>0.104004</td>\n",
       "      <td>0.304588</td>\n",
       "      <td>0.075433</td>\n",
       "    </tr>\n",
       "  </tbody>\n",
       "</table>\n",
       "</div>"
      ],
      "text/plain": [
       "                 SepalLengthCm  SepalWidthCm  PetalLengthCm  PetalWidthCm\n",
       "Species                                                                  \n",
       "Iris-setosa           0.124249      0.145180       0.030106      0.011494\n",
       "Iris-versicolor       0.266433      0.098469       0.220816      0.039106\n",
       "Iris-virginica        0.404343      0.104004       0.304588      0.075433"
      ]
     },
     "execution_count": 132,
     "metadata": {},
     "output_type": "execute_result"
    },
    {
     "data": {
      "text/plain": [
       "[4.877596017789616, 5.134403982210383]"
      ]
     },
     "execution_count": 132,
     "metadata": {},
     "output_type": "execute_result"
    },
    {
     "data": {
      "text/plain": [
       "[4.872405547497749, 5.13959445250225]"
      ]
     },
     "execution_count": 132,
     "metadata": {},
     "output_type": "execute_result"
    }
   ],
   "source": [
    "# 점추정 : 주어진 iris 자료에 대해 각 종에 대해 변수들의 점 추정\n",
    "\n",
    "# 평균, 분산, 신뢰구간\n",
    "iris.groupby('Species').mean()\n",
    "iris.groupby('Species').var()\n",
    "\n",
    "import numpy\n",
    "import scipy\n",
    "# setosa 종 SepalLengthCm의 유의수준 90% 신뢰구간\n",
    "alpha = 0.01 \n",
    "X = iris.loc[iris['Species'] == 'Iris-setosa']['SepalLengthCm']\n",
    "Xbar = X.mean()\n",
    "sigma = S = X.std()\n",
    "n = len(X)\n",
    "z0 = norm.ppf(1-alpha/2) # z값\n",
    "\n",
    "# 모분산을 알 때\n",
    "ci1 = [Xbar-z0*sigma/np.sqrt(n), Xbar+z0*sigma/np.sqrt(n)]\n",
    "ci1\n",
    "\n",
    "# 모분산을 모를 때 : 자료가 정규분포 따르는 지 확인 \n",
    "# log를 취해보는 것도 한 방법\n",
    "from scipy.stats import t\n",
    "t0 = t.ppf(1-alpha/2, df = n-1) # t값\n",
    "ci2 = [Xbar-t0*S/np.sqrt(n), Xbar+t0*S/np.sqrt(n)]\n",
    "ci2"
   ]
  },
  {
   "cell_type": "code",
   "execution_count": 133,
   "metadata": {},
   "outputs": [
    {
     "data": {
      "text/plain": [
       "-19.939991608146176"
      ]
     },
     "execution_count": 133,
     "metadata": {},
     "output_type": "execute_result"
    },
    {
     "data": {
      "text/plain": [
       "1.838681319441873e-25"
      ]
     },
     "execution_count": 133,
     "metadata": {},
     "output_type": "execute_result"
    }
   ],
   "source": [
    "T = (Xbar-6)/(S/np.sqrt(n))\n",
    "T\n",
    "t.cdf(T, df = n-1)"
   ]
  },
  {
   "cell_type": "code",
   "execution_count": 134,
   "metadata": {},
   "outputs": [
    {
     "data": {
      "text/plain": [
       "Ttest_1sampResult(statistic=-19.939991608146148, pvalue=3.6773626388839824e-25)"
      ]
     },
     "execution_count": 134,
     "metadata": {},
     "output_type": "execute_result"
    }
   ],
   "source": [
    "from scipy import stats\n",
    "stats.ttest_1samp(X, 6)"
   ]
  },
  {
   "cell_type": "code",
   "execution_count": 135,
   "metadata": {},
   "outputs": [
    {
     "data": {
      "text/plain": [
       "Ttest_1sampResult(statistic=-2.348735040695466, pvalue=0.022831164451641545)"
      ]
     },
     "execution_count": 135,
     "metadata": {},
     "output_type": "execute_result"
    }
   ],
   "source": [
    "X = np.concatenate([X, [20]], axis=0)\n",
    "stats.ttest_1samp(X, 6)"
   ]
  },
  {
   "cell_type": "code",
   "execution_count": 136,
   "metadata": {},
   "outputs": [],
   "source": [
    "# robust statistics : 평균 대신 중앙값 사용"
   ]
  },
  {
   "cell_type": "code",
   "execution_count": 137,
   "metadata": {},
   "outputs": [
    {
     "data": {
      "text/plain": [
       "-23.250000000000014"
      ]
     },
     "execution_count": 137,
     "metadata": {},
     "output_type": "execute_result"
    }
   ],
   "source": [
    "# 독립 이표본의 평균 비교\n",
    "# 표본들이 정규성을 따르고, 행 별로 다 독립일 때\n",
    "X1 = iris.loc[iris['Species'] == 'Iris-setosa']['SepalLengthCm']\n",
    "X2 = iris.loc[iris['Species'] == 'Iris-versicolor']['SepalLengthCm']\n",
    "\n",
    "X1bar = X1.mean()\n",
    "X2bar = X2.mean()\n",
    "sigma1 = sigma2 = 0.2\n",
    "n1 = len(X1); n2 = len(X2)\n",
    "# 검정통계량\n",
    "z0 = (X1bar-X2bar)/np.sqrt(sigma1**2/n1 + sigma2**2/n2)\n",
    "z0\n",
    "# 2*norm.cdf(z0)"
   ]
  },
  {
   "cell_type": "code",
   "execution_count": 138,
   "metadata": {},
   "outputs": [
    {
     "data": {
      "text/plain": [
       "Ttest_indResult(statistic=-10.52098626754911, pvalue=8.985235037487077e-18)"
      ]
     },
     "execution_count": 138,
     "metadata": {},
     "output_type": "execute_result"
    },
    {
     "data": {
      "text/plain": [
       "Ttest_indResult(statistic=-10.52098626754911, pvalue=3.746742613983842e-17)"
      ]
     },
     "execution_count": 138,
     "metadata": {},
     "output_type": "execute_result"
    }
   ],
   "source": [
    "stats.ttest_ind(X1, X2, equal_var = True) # 모집단이 같다는 조금 더 센 가정\n",
    "stats.ttest_ind(X1, X2, equal_var = False)"
   ]
  },
  {
   "cell_type": "markdown",
   "metadata": {},
   "source": [
    "### 3.2. 실습\n",
    "- versicolor의 PetalLengthCm 모평균에 대한 95% 신뢰구간 계산\n",
    "- versicolor의 PetalLengthCm 모평균에 대한 유의성 검정\n",
    "- versicolor와 virginica의 PetalLengthCm 모평균 비교"
   ]
  },
  {
   "cell_type": "code",
   "execution_count": 139,
   "metadata": {},
   "outputs": [
    {
     "data": {
      "text/plain": [
       "[4.126452778080923, 4.393547221919077]"
      ]
     },
     "execution_count": 139,
     "metadata": {},
     "output_type": "execute_result"
    },
    {
     "data": {
      "text/plain": [
       "Ttest_1sampResult(statistic=-11.135279732161809, pvalue=5.030971033445435e-15)"
      ]
     },
     "execution_count": 139,
     "metadata": {},
     "output_type": "execute_result"
    }
   ],
   "source": [
    "from scipy import stats\n",
    "alpha = 0.05\n",
    "X = iris.loc[iris['Species'] == 'Iris-versicolor']['PetalLengthCm']\n",
    "Xbar = X.mean()\n",
    "sigma = S = X.std()\n",
    "n = len(X)\n",
    "z0 = norm.ppf(1-alpha/2)\n",
    "\n",
    "t0 = t.ppf(1-alpha/2, df = n-1)\n",
    "ci3 = [Xbar - t0*S/np.sqrt(n), Xbar + t0*S/np.sqrt(n)]\n",
    "ci3\n",
    "\n",
    "stats.ttest_1samp(X, 5)"
   ]
  },
  {
   "cell_type": "code",
   "execution_count": 140,
   "metadata": {},
   "outputs": [
    {
     "data": {
      "text/plain": [
       "Ttest_indResult(statistic=12.603779441384987, pvalue=4.900287527398095e-22)"
      ]
     },
     "execution_count": 140,
     "metadata": {},
     "output_type": "execute_result"
    },
    {
     "data": {
      "text/plain": [
       "0.5518946956639835"
      ]
     },
     "execution_count": 140,
     "metadata": {},
     "output_type": "execute_result"
    },
    {
     "data": {
      "text/plain": [
       "0.46991097723995806"
      ]
     },
     "execution_count": 140,
     "metadata": {},
     "output_type": "execute_result"
    }
   ],
   "source": [
    "X1 = iris.loc[iris['Species'] == 'Iris-virginica']['PetalLengthCm']\n",
    "X2 = iris.loc[iris['Species'] == 'Iris-versicolor']['PetalLengthCm']\n",
    "stats.ttest_ind(X1, X2, equal_var = False)\n",
    "\n",
    "X1.std()\n",
    "X2.std()"
   ]
  },
  {
   "cell_type": "markdown",
   "metadata": {},
   "source": [
    "### 3.3. 모분산 추론 및 검정"
   ]
  },
  {
   "cell_type": "code",
   "execution_count": 141,
   "metadata": {},
   "outputs": [
    {
     "data": {
      "text/plain": [
       "30.440999999999978"
      ]
     },
     "execution_count": 141,
     "metadata": {},
     "output_type": "execute_result"
    },
    {
     "data": {
      "text/plain": [
       "0.017283311607342287"
      ]
     },
     "execution_count": 141,
     "metadata": {},
     "output_type": "execute_result"
    }
   ],
   "source": [
    "# 모분산 검정 사전 세팅 : 바뀌지 않는 것\n",
    "X = iris.loc[iris['Species'] == 'Iris-setosa']['SepalLengthCm']\n",
    "n = len(X)\n",
    "alpha = 0.05\n",
    "\n",
    "S2 = X.var()\n",
    "sigma2 = 0.2\n",
    "\n",
    "# 검정 통계량\n",
    "chi2 = (n-1)*S2/sigma2\n",
    "chi2\n",
    "\n",
    "# 유의확률\n",
    "stats.chi2.cdf(chi2, df = n-1)"
   ]
  },
  {
   "cell_type": "markdown",
   "metadata": {},
   "source": [
    "### 3.4. 모분산비에 대한 추론(F-test)"
   ]
  },
  {
   "cell_type": "code",
   "execution_count": 142,
   "metadata": {},
   "outputs": [
    {
     "data": {
      "text/plain": [
       "0.4663429131686986"
      ]
     },
     "execution_count": 142,
     "metadata": {},
     "output_type": "execute_result"
    },
    {
     "data": {
      "text/plain": [
       "0.004328594181349908"
      ]
     },
     "execution_count": 142,
     "metadata": {},
     "output_type": "execute_result"
    }
   ],
   "source": [
    "# 두 모집단에서 분산을 비교할 때 분산의 비에 대한 검정\n",
    "# t-test 경우에 '이분산'으로 가정하고 검정 진행하는 게 안전\n",
    "\n",
    "X1 = iris.loc[iris['Species'] == 'Iris-setosa']['SepalLengthCm']\n",
    "X2 = iris.loc[iris['Species'] == 'Iris-versicolor']['SepalLengthCm']\n",
    "\n",
    "n1 = len(X1)\n",
    "n2 = len(X2)\n",
    "\n",
    "S_12 = X1.var()\n",
    "S_22 = X2.var()\n",
    "\n",
    "# 검정 통계량\n",
    "F0 = S_12/S_22\n",
    "F0\n",
    "\n",
    "# 유의 확률\n",
    "stats.f.cdf(F0, n1-1, n2-1)"
   ]
  },
  {
   "cell_type": "markdown",
   "metadata": {},
   "source": [
    "### 3.5. Movie-Lens 실습"
   ]
  },
  {
   "cell_type": "code",
   "execution_count": 147,
   "metadata": {},
   "outputs": [
    {
     "data": {
      "text/plain": [
       "(3428, 12)"
      ]
     },
     "execution_count": 147,
     "metadata": {},
     "output_type": "execute_result"
    },
    {
     "data": {
      "text/html": [
       "<div>\n",
       "<style scoped>\n",
       "    .dataframe tbody tr th:only-of-type {\n",
       "        vertical-align: middle;\n",
       "    }\n",
       "\n",
       "    .dataframe tbody tr th {\n",
       "        vertical-align: top;\n",
       "    }\n",
       "\n",
       "    .dataframe thead th {\n",
       "        text-align: right;\n",
       "    }\n",
       "</style>\n",
       "<table border=\"1\" class=\"dataframe\">\n",
       "  <thead>\n",
       "    <tr style=\"text-align: right;\">\n",
       "      <th></th>\n",
       "      <th>index</th>\n",
       "      <th>Unnamed: 0</th>\n",
       "      <th>user_id</th>\n",
       "      <th>movie_id</th>\n",
       "      <th>rating</th>\n",
       "      <th>timestamp</th>\n",
       "      <th>gender</th>\n",
       "      <th>age</th>\n",
       "      <th>occupation</th>\n",
       "      <th>zip</th>\n",
       "      <th>title</th>\n",
       "      <th>genres</th>\n",
       "    </tr>\n",
       "  </thead>\n",
       "  <tbody>\n",
       "    <tr>\n",
       "      <th>0</th>\n",
       "      <td>107009</td>\n",
       "      <td>107009</td>\n",
       "      <td>2</td>\n",
       "      <td>2858</td>\n",
       "      <td>4</td>\n",
       "      <td>978298434</td>\n",
       "      <td>M</td>\n",
       "      <td>56</td>\n",
       "      <td>16</td>\n",
       "      <td>70072</td>\n",
       "      <td>American Beauty (1999)</td>\n",
       "      <td>Comedy|Drama</td>\n",
       "    </tr>\n",
       "    <tr>\n",
       "      <th>1</th>\n",
       "      <td>107010</td>\n",
       "      <td>107010</td>\n",
       "      <td>3</td>\n",
       "      <td>2858</td>\n",
       "      <td>4</td>\n",
       "      <td>978297039</td>\n",
       "      <td>M</td>\n",
       "      <td>25</td>\n",
       "      <td>15</td>\n",
       "      <td>55117</td>\n",
       "      <td>American Beauty (1999)</td>\n",
       "      <td>Comedy|Drama</td>\n",
       "    </tr>\n",
       "    <tr>\n",
       "      <th>2</th>\n",
       "      <td>107011</td>\n",
       "      <td>107011</td>\n",
       "      <td>5</td>\n",
       "      <td>2858</td>\n",
       "      <td>4</td>\n",
       "      <td>978241390</td>\n",
       "      <td>M</td>\n",
       "      <td>25</td>\n",
       "      <td>20</td>\n",
       "      <td>55455</td>\n",
       "      <td>American Beauty (1999)</td>\n",
       "      <td>Comedy|Drama</td>\n",
       "    </tr>\n",
       "    <tr>\n",
       "      <th>3</th>\n",
       "      <td>107012</td>\n",
       "      <td>107012</td>\n",
       "      <td>6</td>\n",
       "      <td>2858</td>\n",
       "      <td>1</td>\n",
       "      <td>978236809</td>\n",
       "      <td>F</td>\n",
       "      <td>50</td>\n",
       "      <td>9</td>\n",
       "      <td>55117</td>\n",
       "      <td>American Beauty (1999)</td>\n",
       "      <td>Comedy|Drama</td>\n",
       "    </tr>\n",
       "    <tr>\n",
       "      <th>4</th>\n",
       "      <td>107013</td>\n",
       "      <td>107013</td>\n",
       "      <td>8</td>\n",
       "      <td>2858</td>\n",
       "      <td>5</td>\n",
       "      <td>978229817</td>\n",
       "      <td>M</td>\n",
       "      <td>25</td>\n",
       "      <td>12</td>\n",
       "      <td>11413</td>\n",
       "      <td>American Beauty (1999)</td>\n",
       "      <td>Comedy|Drama</td>\n",
       "    </tr>\n",
       "  </tbody>\n",
       "</table>\n",
       "</div>"
      ],
      "text/plain": [
       "    index  Unnamed: 0  user_id  movie_id  rating  timestamp gender  age  \\\n",
       "0  107009      107009        2      2858       4  978298434      M   56   \n",
       "1  107010      107010        3      2858       4  978297039      M   25   \n",
       "2  107011      107011        5      2858       4  978241390      M   25   \n",
       "3  107012      107012        6      2858       1  978236809      F   50   \n",
       "4  107013      107013        8      2858       5  978229817      M   25   \n",
       "\n",
       "   occupation    zip                   title        genres  \n",
       "0          16  70072  American Beauty (1999)  Comedy|Drama  \n",
       "1          15  55117  American Beauty (1999)  Comedy|Drama  \n",
       "2          20  55455  American Beauty (1999)  Comedy|Drama  \n",
       "3           9  55117  American Beauty (1999)  Comedy|Drama  \n",
       "4          12  11413  American Beauty (1999)  Comedy|Drama  "
      ]
     },
     "execution_count": 147,
     "metadata": {},
     "output_type": "execute_result"
    }
   ],
   "source": [
    "# 1. 자료에서 가장 많이 평가된 영화자료를 선택\n",
    "movie_counts = data['title'].value_counts().sort_values(ascending=False)\n",
    "sub_data = data.loc[data['title'] == movie_counts.index[0]].reset_index()\n",
    "sub_data.shape\n",
    "sub_data.head()"
   ]
  },
  {
   "cell_type": "code",
   "execution_count": 150,
   "metadata": {},
   "outputs": [
    {
     "data": {
      "text/plain": [
       "<matplotlib.axes._subplots.AxesSubplot at 0x2d73f3891d0>"
      ]
     },
     "execution_count": 150,
     "metadata": {},
     "output_type": "execute_result"
    },
    {
     "data": {
      "text/plain": [
       "<matplotlib.axes._subplots.AxesSubplot at 0x2d73f3891d0>"
      ]
     },
     "execution_count": 150,
     "metadata": {},
     "output_type": "execute_result"
    },
    {
     "data": {
      "image/png": "[encoded data removed]",
      "text/plain": [
       "<matplotlib.figure.Figure at 0x2d73f397780>"
      ]
     },
     "metadata": {},
     "output_type": "display_data"
    },
    {
     "data": {
      "text/plain": [
       "<matplotlib.axes._subplots.AxesSubplot at 0x2d73f3954a8>"
      ]
     },
     "execution_count": 150,
     "metadata": {},
     "output_type": "execute_result"
    },
    {
     "data": {
      "image/png": "[encoded data removed]",
      "text/plain": [
       "<matplotlib.figure.Figure at 0x2d73f3875c0>"
      ]
     },
     "metadata": {},
     "output_type": "display_data"
    },
    {
     "data": {
      "text/plain": [
       "<matplotlib.axes._subplots.AxesSubplot at 0x2d73f3e1a58>"
      ]
     },
     "execution_count": 150,
     "metadata": {},
     "output_type": "execute_result"
    },
    {
     "data": {
      "image/png": "[encoded data removed]",
      "text/plain": [
       "<matplotlib.figure.Figure at 0x2d73f3d9f60>"
      ]
     },
     "metadata": {},
     "output_type": "display_data"
    }
   ],
   "source": [
    "# 2. x축에는 성별, y축에는 각 영화의 평점들의 boxplot 그리기 (timestamp 무시)\n",
    "sns.boxplot(x = 'gender', # 범주형 변수\n",
    "           y = 'rating', # 연속형 변수\n",
    "            data = sub_data)\n",
    "sns.stripplot(x = 'gender', # 범주형 변수\n",
    "           y = 'rating', # 연속형 변수\n",
    "            data = sub_data,\n",
    "             jitter = True)\n",
    "plt.show()\n",
    "\n",
    "fig, ax = plt.subplots(figsize = (5, 5))\n",
    "sns.boxplot(x = 'gender', y = 'rating', data = sub_data)\n",
    "plt.show()\n",
    "\n",
    "sns.boxplot(x = 'gender', y = 'rating', hue = 'gender',\n",
    "           data = sub_data)"
   ]
  },
  {
   "cell_type": "code",
   "execution_count": 152,
   "metadata": {},
   "outputs": [
    {
     "data": {
      "text/plain": [
       "Ttest_indResult(statistic=2.7541365521065426, pvalue=0.0059540480808636075)"
      ]
     },
     "execution_count": 152,
     "metadata": {},
     "output_type": "execute_result"
    }
   ],
   "source": [
    "# 3. 평점 자료가 정규 분포를 따른다는 가정 하에, 성별마다 평점의 평균의 차이가 있는지 유의수준 5%의 검정 진행\n",
    "X1 = sub_data.loc[sub_data['gender'] == 'M']['rating']\n",
    "X2 = sub_data.loc[sub_data['gender'] == 'F']['rating']\n",
    "stats.ttest_ind(X1, X2, equal_var = False)"
   ]
  },
  {
   "cell_type": "code",
   "execution_count": 154,
   "metadata": {},
   "outputs": [
    {
     "data": {
      "text/plain": [
       "0.7784126030747368"
      ]
     },
     "execution_count": 154,
     "metadata": {},
     "output_type": "execute_result"
    },
    {
     "data": {
      "text/plain": [
       "1.1551976221590845e-06"
      ]
     },
     "execution_count": 154,
     "metadata": {},
     "output_type": "execute_result"
    },
    {
     "data": {
      "text/plain": [
       "F_onewayResult(statistic=8.482604221336151, pvalue=0.003608759783434126)"
      ]
     },
     "execution_count": 154,
     "metadata": {},
     "output_type": "execute_result"
    }
   ],
   "source": [
    "# 4. 성별마다 평점의 분산의 차이가 있는지 검정하시오\n",
    "X1 = sub_data.loc[sub_data['gender'] == 'M']['rating']\n",
    "X2 = sub_data.loc[sub_data['gender'] == 'F']['rating']\n",
    "\n",
    "n1 = len(X1)\n",
    "n2 = len(X2)\n",
    "\n",
    "S_12 = X1.var()\n",
    "S_22 = X2.var()\n",
    "\n",
    "# 검정 통계량\n",
    "F0 = S_12/S_22\n",
    "F0\n",
    "\n",
    "# 유의 확률\n",
    "stats.f.cdf(F0, n1-1, n2-1) # 영가설 기각: 이분산으로 판단\n",
    "stats.f_oneway(X1,X2)"
   ]
  }
 ],
 "metadata": {
  "kernelspec": {
   "display_name": "Python 3",
   "language": "python",
   "name": "python3"
  },
  "language_info": {
   "codemirror_mode": {
    "name": "ipython",
    "version": 3
   },
   "file_extension": ".py",
   "mimetype": "text/x-python",
   "name": "python",
   "nbconvert_exporter": "python",
   "pygments_lexer": "ipython3",
   "version": "3.6.4"
  }
 },
 "nbformat": 4,
 "nbformat_minor": 2
}
